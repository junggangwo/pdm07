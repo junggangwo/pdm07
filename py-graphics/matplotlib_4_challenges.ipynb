{
  "nbformat": 4,
  "nbformat_minor": 0,
  "metadata": {
    "colab": {
      "name": "matplotlib_4_challenges.ipynb",
      "provenance": [],
      "collapsed_sections": [],
      "include_colab_link": true
    },
    "kernelspec": {
      "name": "python3",
      "display_name": "Python 3"
    }
  },
  "cells": [
    {
      "cell_type": "markdown",
      "metadata": {
        "id": "view-in-github",
        "colab_type": "text"
      },
      "source": [
        "<a href=\"https://colab.research.google.com/github/junggangwo/pdm07/blob/main/py-graphics/matplotlib_4_challenges.ipynb\" target=\"_parent\"><img src=\"https://colab.research.google.com/assets/colab-badge.svg\" alt=\"Open In Colab\"/></a>"
      ]
    },
    {
      "cell_type": "markdown",
      "metadata": {
        "id": "9Wej-7GZ4f3N"
      },
      "source": [
        "# Challenge\n",
        "## Python module 2. **matplotlib**\n",
        "### Python graphics using matplotlib\n",
        "- Visualization\n",
        "- Front-end deployment to WEB or Mobile"
      ]
    },
    {
      "cell_type": "markdown",
      "metadata": {
        "id": "h6yEJiGJ4Lbk"
      },
      "source": [
        "### 무작위수 분포 그려보기"
      ]
    },
    {
      "cell_type": "markdown",
      "metadata": {
        "id": "b-JcgSU-Ktyz"
      },
      "source": [
        "### [도전1.] 균일분포와 정규분포를 비교하는 그림을 그리시오.\n",
        "- subplot 이용\n",
        "- style(제목, x-축 레이블, y-축 레이블, ...)\n",
        "\n",
        "> [hint] 검색: \"How to add title to subplots in Matplotlib?\""
      ]
    },
    {
      "cell_type": "code",
      "metadata": {
        "id": "-LanLSNLnW0g"
      },
      "source": [
        "import numpy as np\n",
        "import matplotlib.pyplot as plt"
      ],
      "execution_count": 11,
      "outputs": []
    },
    {
      "cell_type": "code",
      "metadata": {
        "id": "k0XaT2f9JGZy",
        "colab": {
          "base_uri": "https://localhost:8080/",
          "height": 360
        },
        "outputId": "32ed7b52-99f1-49a8-8785-928e9cfe7283"
      },
      "source": [
        "plt.hist(np.random.rand(1000))"
      ],
      "execution_count": 2,
      "outputs": [
        {
          "output_type": "execute_result",
          "data": {
            "text/plain": [
              "(array([101.,  93., 104., 105., 115.,  95.,  99.,  79., 105., 104.]),\n",
              " array([0.00117537, 0.10101816, 0.20086095, 0.30070373, 0.40054652,\n",
              "        0.50038931, 0.60023209, 0.70007488, 0.79991767, 0.89976045,\n",
              "        0.99960324]),\n",
              " <a list of 10 Patch objects>)"
            ]
          },
          "metadata": {},
          "execution_count": 2
        },
        {
          "output_type": "display_data",
          "data": {
            "image/png": "[encoded data removed]",
            "text/plain": [
              "<Figure size 432x288 with 1 Axes>"
            ]
          },
          "metadata": {
            "needs_background": "light"
          }
        }
      ]
    },
    {
      "cell_type": "code",
      "metadata": {
        "id": "T8SCqKVeMhBF",
        "colab": {
          "base_uri": "https://localhost:8080/",
          "height": 357
        },
        "outputId": "4d5ee3dc-4660-425a-ca0d-8a88a24923c8"
      },
      "source": [
        "plt.hist(np.random.randn(1000))"
      ],
      "execution_count": 3,
      "outputs": [
        {
          "output_type": "execute_result",
          "data": {
            "text/plain": [
              "(array([ 18.,  47., 128., 215., 204., 189., 127.,  51.,  18.,   3.]),\n",
              " array([-2.67419815, -2.08334661, -1.49249508, -0.90164355, -0.31079201,\n",
              "         0.28005952,  0.87091105,  1.46176259,  2.05261412,  2.64346565,\n",
              "         3.23431719]),\n",
              " <a list of 10 Patch objects>)"
            ]
          },
          "metadata": {},
          "execution_count": 3
        },
        {
          "output_type": "display_data",
          "data": {
            "image/png": "[encoded data removed]",
            "text/plain": [
              "<Figure size 432x288 with 1 Axes>"
            ]
          },
          "metadata": {
            "needs_background": "light"
          }
        }
      ]
    },
    {
      "cell_type": "code",
      "metadata": {
        "colab": {
          "base_uri": "https://localhost:8080/",
          "height": 729
        },
        "id": "LvNavGtbqCsG",
        "outputId": "bbc6f2a4-fd99-4150-cf4d-bb134168b490"
      },
      "source": [
        "plt.figure(figsize=(15,10))\n",
        "\n",
        "plt.subplot(121).set_title(\"rand\")\n",
        "plt.xlabel('x')\n",
        "plt.ylabel('y')\n",
        "plt.hist(np.random.rand(1000))\n",
        "\n",
        "plt.subplot(122).set_title(\"randn\")\n",
        "plt.xlabel('x')\n",
        "plt.ylabel('y')\n",
        "plt.hist(np.random.randn(1000))\n",
        "\n",
        "plt.tight_layout()\n",
        "plt.show()"
      ],
      "execution_count": 4,
      "outputs": [
        {
          "output_type": "display_data",
          "data": {
            "image/png": "[encoded data removed]",
            "text/plain": [
              "<Figure size 1080x720 with 2 Axes>"
            ]
          },
          "metadata": {
            "needs_background": "light"
          }
        }
      ]
    },
    {
      "cell_type": "markdown",
      "metadata": {
        "id": "D5XGB1v_PAeU"
      },
      "source": [
        "### [도전 2.] 0~9 사이의 무작위 정수 1000개를 만들어서 각 수의 빈도에 대한 히스토그램, 막대그래프, 꺽은선 그래프를 그리고 비교하시오.\n",
        "- subplot 이용\n",
        "- style(제목, x-축 레이블, y-축 레이블, ...)\n",
        "\n"
      ]
    },
    {
      "cell_type": "code",
      "metadata": {
        "id": "TpPP5u48rqGO"
      },
      "source": [
        "n1000 = np.random.randint(0, 10, 1000)"
      ],
      "execution_count": 5,
      "outputs": []
    },
    {
      "cell_type": "code",
      "metadata": {
        "id": "xza_yV8nMshU",
        "colab": {
          "base_uri": "https://localhost:8080/"
        },
        "outputId": "105b885a-e8a5-4867-fd22-411ecfa7d0e7"
      },
      "source": [
        "value, count= np.unique(n1000, return_counts=True)\n",
        "value, count"
      ],
      "execution_count": 6,
      "outputs": [
        {
          "output_type": "execute_result",
          "data": {
            "text/plain": [
              "(array([0, 1, 2, 3, 4, 5, 6, 7, 8, 9]),\n",
              " array([ 94, 106,  97,  91,  96,  96,  93, 128, 107,  92]))"
            ]
          },
          "metadata": {},
          "execution_count": 6
        }
      ]
    },
    {
      "cell_type": "code",
      "metadata": {
        "id": "CtOSk4RpQTXG",
        "colab": {
          "base_uri": "https://localhost:8080/",
          "height": 320
        },
        "outputId": "0b990837-22ff-41b5-d459-0b280c599e9d"
      },
      "source": [
        "plt.bar(value,count,color=\"bgrcmyk\")  # 'bgrcmykw"
      ],
      "execution_count": 7,
      "outputs": [
        {
          "output_type": "stream",
          "name": "stderr",
          "text": [
            "/usr/local/lib/python3.7/dist-packages/ipykernel_launcher.py:1: MatplotlibDeprecationWarning: Using a string of single character colors as a color sequence is deprecated. Use an explicit list instead.\n",
            "  \"\"\"Entry point for launching an IPython kernel.\n"
          ]
        },
        {
          "output_type": "execute_result",
          "data": {
            "text/plain": [
              "<BarContainer object of 10 artists>"
            ]
          },
          "metadata": {},
          "execution_count": 7
        },
        {
          "output_type": "display_data",
          "data": {
            "image/png": "[encoded data removed]",
            "text/plain": [
              "<Figure size 432x288 with 1 Axes>"
            ]
          },
          "metadata": {
            "needs_background": "light"
          }
        }
      ]
    },
    {
      "cell_type": "code",
      "metadata": {
        "colab": {
          "base_uri": "https://localhost:8080/",
          "height": 320
        },
        "id": "C29J8JN-sSY-",
        "outputId": "fc2ec620-0fe2-4d7c-820f-d192a0d0c596"
      },
      "source": [
        "plt.hist(n1000)"
      ],
      "execution_count": 8,
      "outputs": [
        {
          "output_type": "execute_result",
          "data": {
            "text/plain": [
              "(array([ 94., 106.,  97.,  91.,  96.,  96.,  93., 128., 107.,  92.]),\n",
              " array([0. , 0.9, 1.8, 2.7, 3.6, 4.5, 5.4, 6.3, 7.2, 8.1, 9. ]),\n",
              " <a list of 10 Patch objects>)"
            ]
          },
          "metadata": {},
          "execution_count": 8
        },
        {
          "output_type": "display_data",
          "data": {
            "image/png": "[encoded data removed]",
            "text/plain": [
              "<Figure size 432x288 with 1 Axes>"
            ]
          },
          "metadata": {
            "needs_background": "light"
          }
        }
      ]
    },
    {
      "cell_type": "code",
      "metadata": {
        "colab": {
          "base_uri": "https://localhost:8080/",
          "height": 283
        },
        "id": "T5Z7tiMjsXaT",
        "outputId": "eb1c4ec1-5cb7-449a-bd17-860cd5957e15"
      },
      "source": [
        "plt.plot(value,count, marker='o')"
      ],
      "execution_count": 9,
      "outputs": [
        {
          "output_type": "execute_result",
          "data": {
            "text/plain": [
              "[<matplotlib.lines.Line2D at 0x7f175bf138d0>]"
            ]
          },
          "metadata": {},
          "execution_count": 9
        },
        {
          "output_type": "display_data",
          "data": {
            "image/png": "[encoded data removed]",
            "text/plain": [
              "<Figure size 432x288 with 1 Axes>"
            ]
          },
          "metadata": {
            "needs_background": "light"
          }
        }
      ]
    },
    {
      "cell_type": "code",
      "metadata": {
        "colab": {
          "base_uri": "https://localhost:8080/",
          "height": 405
        },
        "id": "jgU0MYT3siOF",
        "outputId": "b2ee3a94-e6d1-4e4a-8f9a-3a5773f391c8"
      },
      "source": [
        "plt.figure(figsize=(10,5))\n",
        "\n",
        "plt.subplot(131).set_title(\"bar\")\n",
        "plt.xlabel('X') \n",
        "plt.ylabel('Y') \n",
        "plt.hist(n1000)\n",
        "\n",
        "plt.subplot(132).set_title(\"hist\") \n",
        "plt.xlabel('X') \n",
        "plt.ylabel('Y')\n",
        "plt.bar(value,count,color=\"bgrcm\")\n",
        "\n",
        "plt.subplot(133).set_title(\"line\") \n",
        "plt.xlabel('X') \n",
        "plt.ylabel('Y')\n",
        "plt.plot(value,count, marker='o', markeredgecolor='red')"
      ],
      "execution_count": 10,
      "outputs": [
        {
          "output_type": "stream",
          "name": "stderr",
          "text": [
            "/usr/local/lib/python3.7/dist-packages/ipykernel_launcher.py:11: MatplotlibDeprecationWarning: Using a string of single character colors as a color sequence is deprecated. Use an explicit list instead.\n",
            "  # This is added back by InteractiveShellApp.init_path()\n"
          ]
        },
        {
          "output_type": "execute_result",
          "data": {
            "text/plain": [
              "[<matplotlib.lines.Line2D at 0x7f175bdb89d0>]"
            ]
          },
          "metadata": {},
          "execution_count": 10
        },
        {
          "output_type": "display_data",
          "data": {
            "image/png": "[encoded data removed]",
            "text/plain": [
              "<Figure size 720x360 with 3 Axes>"
            ]
          },
          "metadata": {
            "needs_background": "light"
          }
        }
      ]
    },
    {
      "cell_type": "markdown",
      "metadata": {
        "id": "vJOiAMJ5Jpnq"
      },
      "source": [
        "> [Python 그래픽스](https://datascienceschool.net/01%20python/05.01%20%EC%8B%9C%EA%B0%81%ED%99%94%20%ED%8C%A8%ED%82%A4%EC%A7%80%20%EB%A7%B7%ED%94%8C%EB%A1%AF%EB%A6%AC%EB%B8%8C%20%EC%86%8C%EA%B0%9C.html)\n"
      ]
    },
    {
      "cell_type": "code",
      "metadata": {
        "id": "zWcu1ISPYqHA"
      },
      "source": [
        ""
      ],
      "execution_count": 10,
      "outputs": []
    }
  ]
}