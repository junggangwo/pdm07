{
  "nbformat": 4,
  "nbformat_minor": 0,
  "metadata": {
    "kernelspec": {
      "display_name": "Python 3",
      "language": "python",
      "name": "python3"
    },
    "language_info": {
      "codemirror_mode": {
        "name": "ipython",
        "version": 3
      },
      "file_extension": ".py",
      "mimetype": "text/x-python",
      "name": "python",
      "nbconvert_exporter": "python",
      "pygments_lexer": "ipython3",
      "version": "3.7.5"
    },
    "colab": {
      "name": "numpy_2_array.ipynb",
      "provenance": [],
      "collapsed_sections": [],
      "include_colab_link": true
    }
  },
  "cells": [
    {
      "cell_type": "markdown",
      "metadata": {
        "id": "view-in-github",
        "colab_type": "text"
      },
      "source": [
        "<a href=\"https://colab.research.google.com/github/junggangwo/pdm07/blob/main/numpy/numpy_2_array.ipynb\" target=\"_parent\"><img src=\"https://colab.research.google.com/assets/colab-badge.svg\" alt=\"Open In Colab\"/></a>"
      ]
    },
    {
      "cell_type": "markdown",
      "metadata": {
        "id": "qLtLw3l3DC1l"
      },
      "source": [
        "# numpy array\n",
        "\n",
        "- 생성\n",
        "- 구조 살펴보기\n",
        "- 수학연산 (columnwise, rowwise)"
      ]
    },
    {
      "cell_type": "code",
      "metadata": {
        "id": "1ZpPRcynDC1l",
        "colab": {
          "base_uri": "https://localhost:8080/"
        },
        "outputId": "876a19f7-8542-401d-be75-845e2999999a"
      },
      "source": [
        "from numpy import asarray\n",
        "# define data as a list\n",
        "data = [[1,2,3], [4,5,6]]\n",
        "# convert to a numpy array\n",
        "data = asarray(data) # 리스트를 넘파이 배열로 변형해주기\n",
        "# summarize the array content\n",
        "print(data)\n",
        "# summarize the array shape\n",
        "print(data.shape)  # AttributeError: 'list' object has no attribute 'shape' (data list는 2차원, list는 shape객체가 없음, ) --> asarray 매개변수 넣어주기"
      ],
      "execution_count": 1,
      "outputs": [
        {
          "output_type": "stream",
          "name": "stdout",
          "text": [
            "[[1 2 3]\n",
            " [4 5 6]]\n",
            "(2, 3)\n"
          ]
        }
      ]
    },
    {
      "cell_type": "markdown",
      "metadata": {
        "id": "1pmgPh3DDC1p"
      },
      "source": [
        "## Print rows"
      ]
    },
    {
      "cell_type": "code",
      "metadata": {
        "id": "0rLupYCmDC1q",
        "colab": {
          "base_uri": "https://localhost:8080/",
          "height": 136
        },
        "outputId": "d4bbe2ef-8486-4930-ad94-6b9441b26ace"
      },
      "source": [
        "# enumerate rows in a numpy array\n",
        "from numpy import asarray\n",
        "# define data as a list\n",
        "data = [[1,2,3], [4,5,6]]\n",
        "# data.shape # Error!\n",
        "# convert to a numpy array\n",
        "data = asarray(data)\n",
        "# step through rows\n",
        "for row in range(data.shape[]): # SyntaxError: invalid syntax\n",
        "\tprint(data[])"
      ],
      "execution_count": 2,
      "outputs": [
        {
          "output_type": "error",
          "ename": "SyntaxError",
          "evalue": "ignored",
          "traceback": [
            "\u001b[0;36m  File \u001b[0;32m\"<ipython-input-2-0d9473c6b3d3>\"\u001b[0;36m, line \u001b[0;32m9\u001b[0m\n\u001b[0;31m    for row in range(data.shape[]): # SyntaxError: invalid syntax\u001b[0m\n\u001b[0m                                ^\u001b[0m\n\u001b[0;31mSyntaxError\u001b[0m\u001b[0;31m:\u001b[0m invalid syntax\n"
          ]
        }
      ]
    },
    {
      "cell_type": "code",
      "metadata": {
        "id": "iZXiibx_n-ZV"
      },
      "source": [
        ""
      ],
      "execution_count": null,
      "outputs": []
    },
    {
      "cell_type": "code",
      "metadata": {
        "id": "mD-kNmoGkG1K"
      },
      "source": [
        "for row in range(data.shape[0]): \n",
        "\tprint(data[row])"
      ],
      "execution_count": null,
      "outputs": []
    },
    {
      "cell_type": "code",
      "metadata": {
        "id": "q8jmNed7kOsZ"
      },
      "source": [
        "data.shape # tuple\n",
        "data.shape, data.shape[0], data.shape[1] # 2행 3열"
      ],
      "execution_count": null,
      "outputs": []
    },
    {
      "cell_type": "markdown",
      "metadata": {
        "id": "S1Bl58KpDC1s"
      },
      "source": [
        "## Print columns"
      ]
    },
    {
      "cell_type": "code",
      "metadata": {
        "id": "2jS_7YIWDC1t"
      },
      "source": [
        "# enumerate rows in a numpy array\n",
        "from numpy import asarray\n",
        "# define data as a list\n",
        "data = [[1,2,3], [4,5,6]]\n",
        "# convert to a numpy array\n",
        "data = asarray(data)\n",
        "print(data)\n",
        "# step through columns\n",
        "for col in range(data.shape[]):  # SyntaxError: invalid syntax\n",
        "\tprint(data[])"
      ],
      "execution_count": null,
      "outputs": []
    },
    {
      "cell_type": "code",
      "metadata": {
        "id": "rb2xuL8AlYCu"
      },
      "source": [
        "data"
      ],
      "execution_count": null,
      "outputs": []
    },
    {
      "cell_type": "code",
      "metadata": {
        "id": "bPBOzK-jktGR"
      },
      "source": [
        "for col in range(data.shape[1]): \n",
        "\tprint(data[:,col])"
      ],
      "execution_count": null,
      "outputs": []
    },
    {
      "cell_type": "markdown",
      "metadata": {
        "id": "BTdfAyqRlVM1"
      },
      "source": [
        "---"
      ]
    },
    {
      "cell_type": "markdown",
      "metadata": {
        "id": "tGhULkDaDC1v"
      },
      "source": [
        "## NumPy Array Operations By Row and Column\n",
        "- axis=None: Apply operation array-wise.\n",
        "- axis=0: Apply operation column-wise, across all rows for each column.\n",
        "- axis=1: Apply operation row-wise, across all columns for each row."
      ]
    },
    {
      "cell_type": "code",
      "metadata": {
        "id": "nFCQ6buxDC1v"
      },
      "source": [
        "# sum values array-wise\n",
        "from numpy import asarray\n",
        "# define data as a list\n",
        "data = [[1,2,3], [4,5,6]]\n",
        "# convert to a numpy array\n",
        "data = asarray(data)\n",
        "# summarize the array content\n",
        "print(data)\n",
        "# sum data by array\n",
        "result = data.sum(axis=1)  # sum() 배열 모든 항목들의 합, (axis=None: default, axis=0: column-wise, axis=1: row-wise)\n",
        "# summarize the result\n",
        "print(result)"
      ],
      "execution_count": null,
      "outputs": []
    },
    {
      "cell_type": "markdown",
      "metadata": {
        "id": "Mcmj1qCwDC1y"
      },
      "source": [
        "### Axis=0 Column-Wise Operation (수직으로)"
      ]
    },
    {
      "cell_type": "code",
      "metadata": {
        "id": "irwyItrKDC10"
      },
      "source": [
        "# sum values column-wise\n",
        "from numpy import asarray\n",
        "# define data as a list\n",
        "data = [[1,2,3], [4,5,6]]\n",
        "# convert to a numpy array\n",
        "data = asarray(data)\n",
        "# summarize the array content\n",
        "print(data)\n",
        "# sum data by column\n",
        "result = data.sum()\n",
        "# summarize the result\n",
        "print(result)"
      ],
      "execution_count": null,
      "outputs": []
    },
    {
      "cell_type": "markdown",
      "metadata": {
        "id": "OXNCVoP1DC13"
      },
      "source": [
        "### Axis=1 Row-Wise Operation (수평으로)"
      ]
    },
    {
      "cell_type": "code",
      "metadata": {
        "id": "QmStdHwqDC13"
      },
      "source": [
        "# sum values row-wise\n",
        "from numpy import asarray\n",
        "# define data as a list\n",
        "data = [[1,2,3], [4,5,6]]\n",
        "# convert to a numpy array\n",
        "data = asarray(data)\n",
        "# summarize the array content\n",
        "print(data)\n",
        "# sum data by row\n",
        "result = data.sum()\n",
        "# summarize the result\n",
        "print(result)"
      ],
      "execution_count": null,
      "outputs": []
    },
    {
      "cell_type": "markdown",
      "metadata": {
        "id": "WD-mr8TylTH-"
      },
      "source": [
        "---"
      ]
    },
    {
      "cell_type": "markdown",
      "metadata": {
        "id": "JNfFF_h-DC2A"
      },
      "source": [
        "## [Challenge]\n",
        "- 3d-array\n",
        "    * axis = 0\n",
        "    * axis = 1\n",
        "    * axis = 2\n",
        "    * axis = (0,1)"
      ]
    },
    {
      "cell_type": "markdown",
      "metadata": {
        "id": "w7qMCHmrGHTQ"
      },
      "source": [
        "## [DIY: 도전하기]\n",
        "\n",
        "- 3차원 배열을 리스트로부터 만드시오.\n",
        "- [참고: numpy_sum_axis](http://taewan.kim/post/numpy_sum_axis/)"
      ]
    },
    {
      "cell_type": "code",
      "metadata": {
        "id": "dMOzrginDC2A"
      },
      "source": [
        "# Make 3d-array in numpy\n",
        "data = [[1,2,3], [4,5,6]]\n",
        "data = asarray(data)\n",
        "print(data)"
      ],
      "execution_count": null,
      "outputs": []
    },
    {
      "cell_type": "code",
      "metadata": {
        "id": "idjZZCwTDC2E"
      },
      "source": [
        "# 3차원 리스트 만들고 asarray로 배열\n"
      ],
      "execution_count": null,
      "outputs": []
    }
  ]
}