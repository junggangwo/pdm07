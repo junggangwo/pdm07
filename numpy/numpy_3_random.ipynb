{
  "nbformat": 4,
  "nbformat_minor": 0,
  "metadata": {
    "colab": {
      "name": "numpy_3_random.ipynb",
      "provenance": [],
      "collapsed_sections": [],
      "include_colab_link": true
    },
    "kernelspec": {
      "name": "python3",
      "display_name": "Python 3"
    }
  },
  "cells": [
    {
      "cell_type": "markdown",
      "metadata": {
        "id": "view-in-github",
        "colab_type": "text"
      },
      "source": [
        "<a href=\"https://colab.research.google.com/github/junggangwo/pdm07/blob/main/numpy/numpy_3_random.ipynb\" target=\"_parent\"><img src=\"https://colab.research.google.com/assets/colab-badge.svg\" alt=\"Open In Colab\"/></a>"
      ]
    },
    {
      "cell_type": "markdown",
      "metadata": {
        "id": "_zrirXHfgmyY"
      },
      "source": [
        "# numpy\n",
        "## random 서브모듈\n",
        "> [데이터싸이언스 스쿨:난수발생](https://datascienceschool.net/01%20python/03.05%20%EB%82%9C%EC%88%98%20%EB%B0%9C%EC%83%9D%EA%B3%BC%20%EC%B9%B4%EC%9A%B4%ED%8C%85.html)"
      ]
    },
    {
      "cell_type": "code",
      "metadata": {
        "id": "kQbzzSMZG2PX"
      },
      "source": [
        "import numpy as np"
      ],
      "execution_count": 38,
      "outputs": []
    },
    {
      "cell_type": "markdown",
      "metadata": {
        "id": "1Ry0YHkNFis5"
      },
      "source": [
        "## 난수 생성\n",
        "> NumPy의 random 서브모듈은 난수를 생성하는 다양한 명령을 제공.\n",
        "\n",
        "- rand: 0부터 1사이의 균일 분포 (uniform distribution)\n",
        "- randn: 가우시안 표준 정규 분포 (normal distribution, Gaussian)\n",
        "- randint: 균일 분포의 정수 난수 (uniform int)\n",
        "\n",
        "> randn()은 평균 0, 표준편차 1 인 가우시안 정규분포를 생성."
      ]
    },
    {
      "cell_type": "markdown",
      "metadata": {
        "id": "CtO1VxvurziR"
      },
      "source": [
        "### rand: 0부터 1사이의 균일 분포 (uniform distribution)"
      ]
    },
    {
      "cell_type": "code",
      "metadata": {
        "id": "LA1oF6aEG7kJ",
        "colab": {
          "base_uri": "https://localhost:8080/"
        },
        "outputId": "b92249cb-7b5b-4516-93f4-50408b41233c"
      },
      "source": [
        "np.random.rand(5)"
      ],
      "execution_count": 39,
      "outputs": [
        {
          "output_type": "execute_result",
          "data": {
            "text/plain": [
              "array([0.49566983, 0.39709509, 0.50938432, 0.10586255, 0.80257456])"
            ]
          },
          "metadata": {},
          "execution_count": 39
        }
      ]
    },
    {
      "cell_type": "code",
      "metadata": {
        "id": "H6f4ix3NHCyR",
        "colab": {
          "base_uri": "https://localhost:8080/"
        },
        "outputId": "e252866e-5d4d-4c8a-80d5-7cfc697d7bed"
      },
      "source": [
        "np.random.rand(5)"
      ],
      "execution_count": 40,
      "outputs": [
        {
          "output_type": "execute_result",
          "data": {
            "text/plain": [
              "array([0.65677765, 0.69505552, 0.14453002, 0.21179423, 0.20692009])"
            ]
          },
          "metadata": {},
          "execution_count": 40
        }
      ]
    },
    {
      "cell_type": "markdown",
      "metadata": {
        "id": "c88F6gf8r4K2"
      },
      "source": [
        "### randn: 가우시안 표준 정규 분포 (normal distribution, Gaussian)"
      ]
    },
    {
      "cell_type": "code",
      "metadata": {
        "id": "rtVfCL-uP2Tw",
        "colab": {
          "base_uri": "https://localhost:8080/"
        },
        "outputId": "c135cb32-1df8-4a76-96f3-827deb1752b6"
      },
      "source": [
        "np.random.randn(5)"
      ],
      "execution_count": 41,
      "outputs": [
        {
          "output_type": "execute_result",
          "data": {
            "text/plain": [
              "array([-1.04733485, -0.76298686,  0.17289358,  0.45713502,  0.22258891])"
            ]
          },
          "metadata": {},
          "execution_count": 41
        }
      ]
    },
    {
      "cell_type": "code",
      "metadata": {
        "colab": {
          "base_uri": "https://localhost:8080/"
        },
        "id": "D67oSXOa1mQA",
        "outputId": "d86d71f7-d9fd-4872-9c42-002a5d9ef65b"
      },
      "source": [
        "np.random.randn(5)"
      ],
      "execution_count": 42,
      "outputs": [
        {
          "output_type": "execute_result",
          "data": {
            "text/plain": [
              "array([ 0.45574905, -0.76441752,  0.14127514, -0.48956076,  0.24783155])"
            ]
          },
          "metadata": {},
          "execution_count": 42
        }
      ]
    },
    {
      "cell_type": "markdown",
      "metadata": {
        "id": "wsvTzTFSsBSJ"
      },
      "source": [
        "### randint: 균일 분포의 정수 난수 (uniform int)\n",
        "- numpy.random.randint(low, high=None, size=None, dtype='l')"
      ]
    },
    {
      "cell_type": "code",
      "metadata": {
        "id": "WSvAH8uVs2Vb",
        "colab": {
          "base_uri": "https://localhost:8080/"
        },
        "outputId": "6687cc8f-3545-4e38-dbe3-759f55197e30"
      },
      "source": [
        "np.random.randint(5)"
      ],
      "execution_count": 43,
      "outputs": [
        {
          "output_type": "execute_result",
          "data": {
            "text/plain": [
              "2"
            ]
          },
          "metadata": {},
          "execution_count": 43
        }
      ]
    },
    {
      "cell_type": "code",
      "metadata": {
        "colab": {
          "base_uri": "https://localhost:8080/"
        },
        "id": "RLbcg3Fn2F7O",
        "outputId": "f2f83f8a-2206-4e22-c8ef-c07f8937691f"
      },
      "source": [
        "# die number\n",
        "np.random.randint(1,7)"
      ],
      "execution_count": 44,
      "outputs": [
        {
          "output_type": "execute_result",
          "data": {
            "text/plain": [
              "6"
            ]
          },
          "metadata": {},
          "execution_count": 44
        }
      ]
    },
    {
      "cell_type": "code",
      "metadata": {
        "id": "McWHW15uQDPr",
        "colab": {
          "base_uri": "https://localhost:8080/"
        },
        "outputId": "63d257ec-784e-49b6-eab2-d08763ddef62"
      },
      "source": [
        "np.random.randint(5,9) "
      ],
      "execution_count": 45,
      "outputs": [
        {
          "output_type": "execute_result",
          "data": {
            "text/plain": [
              "5"
            ]
          },
          "metadata": {},
          "execution_count": 45
        }
      ]
    },
    {
      "cell_type": "code",
      "metadata": {
        "id": "oBsWu9FmQQSC",
        "colab": {
          "base_uri": "https://localhost:8080/"
        },
        "outputId": "7bb8232f-a5cc-444f-e812-a18fa76a5ea3"
      },
      "source": [
        "np.random.randint(0,10,5)"
      ],
      "execution_count": 46,
      "outputs": [
        {
          "output_type": "execute_result",
          "data": {
            "text/plain": [
              "array([0, 6, 1, 4, 8])"
            ]
          },
          "metadata": {},
          "execution_count": 46
        }
      ]
    },
    {
      "cell_type": "code",
      "metadata": {
        "id": "0kNuJxjaQYEu",
        "colab": {
          "base_uri": "https://localhost:8080/"
        },
        "outputId": "dbf6eb92-75f0-4f14-e935-d262e53a0b48"
      },
      "source": [
        "np.random.randint(0,10,5)"
      ],
      "execution_count": 47,
      "outputs": [
        {
          "output_type": "execute_result",
          "data": {
            "text/plain": [
              "array([8, 0, 0, 0, 4])"
            ]
          },
          "metadata": {},
          "execution_count": 47
        }
      ]
    },
    {
      "cell_type": "markdown",
      "metadata": {
        "id": "K58DiNYUmANL"
      },
      "source": [
        "---"
      ]
    },
    {
      "cell_type": "markdown",
      "metadata": {
        "id": "xU5NWjQ3F_ld"
      },
      "source": [
        "## 난수 생성 seed 설정\n",
        "- numpy.random.seed(seed=None)\n",
        "- np.random.seed(number)"
      ]
    },
    {
      "cell_type": "code",
      "metadata": {
        "id": "AxUeYmQSQawG"
      },
      "source": [
        "np.random.seed()"
      ],
      "execution_count": 48,
      "outputs": []
    },
    {
      "cell_type": "code",
      "metadata": {
        "id": "C33YjKqvRJ33",
        "colab": {
          "base_uri": "https://localhost:8080/"
        },
        "outputId": "701a8350-947a-4d0f-97c0-bd096907c1e6"
      },
      "source": [
        "np.random.rand(5)"
      ],
      "execution_count": 49,
      "outputs": [
        {
          "output_type": "execute_result",
          "data": {
            "text/plain": [
              "array([0.76760134, 0.55139588, 0.02352452, 0.82190732, 0.9465082 ])"
            ]
          },
          "metadata": {},
          "execution_count": 49
        }
      ]
    },
    {
      "cell_type": "code",
      "metadata": {
        "id": "Ne8rIyN9RO81",
        "colab": {
          "base_uri": "https://localhost:8080/"
        },
        "outputId": "c91c94b5-9e7e-4916-ecf0-67f9f630e355"
      },
      "source": [
        "np.random.rand(5)"
      ],
      "execution_count": 50,
      "outputs": [
        {
          "output_type": "execute_result",
          "data": {
            "text/plain": [
              "array([0.61374877, 0.80762807, 0.28473185, 0.98279687, 0.68130801])"
            ]
          },
          "metadata": {},
          "execution_count": 50
        }
      ]
    },
    {
      "cell_type": "markdown",
      "metadata": {
        "id": "wnQ4gFoltu81"
      },
      "source": [
        "### 동일한 무작위수 생성\n",
        "- seed를 고정하고 무작위수 생성"
      ]
    },
    {
      "cell_type": "code",
      "metadata": {
        "id": "LGPOJGfgRSWx"
      },
      "source": [
        "np.random.seed(1234)"
      ],
      "execution_count": 51,
      "outputs": []
    },
    {
      "cell_type": "code",
      "metadata": {
        "id": "t2PNRUpfRXZk",
        "colab": {
          "base_uri": "https://localhost:8080/"
        },
        "outputId": "0c4cb8b5-af2b-473e-a636-502f768f16f3"
      },
      "source": [
        "np.random.rand(5)"
      ],
      "execution_count": 52,
      "outputs": [
        {
          "output_type": "execute_result",
          "data": {
            "text/plain": [
              "array([0.19151945, 0.62210877, 0.43772774, 0.78535858, 0.77997581])"
            ]
          },
          "metadata": {},
          "execution_count": 52
        }
      ]
    },
    {
      "cell_type": "code",
      "metadata": {
        "id": "x8yKednV8CZy",
        "colab": {
          "base_uri": "https://localhost:8080/"
        },
        "outputId": "3fefc98f-0c1a-4d88-c5a8-e61be0055030"
      },
      "source": [
        "np.random.rand(5)"
      ],
      "execution_count": 53,
      "outputs": [
        {
          "output_type": "execute_result",
          "data": {
            "text/plain": [
              "array([0.27259261, 0.27646426, 0.80187218, 0.95813935, 0.87593263])"
            ]
          },
          "metadata": {},
          "execution_count": 53
        }
      ]
    },
    {
      "cell_type": "code",
      "metadata": {
        "id": "bo2A_ntYRcKw"
      },
      "source": [
        "np.random.seed(1234)"
      ],
      "execution_count": 54,
      "outputs": []
    },
    {
      "cell_type": "code",
      "metadata": {
        "id": "U5qXdwYQRYeT",
        "colab": {
          "base_uri": "https://localhost:8080/"
        },
        "outputId": "0c5b83b2-2fe5-4738-a75d-d8704edfdb56"
      },
      "source": [
        "np.random.rand(5)"
      ],
      "execution_count": 55,
      "outputs": [
        {
          "output_type": "execute_result",
          "data": {
            "text/plain": [
              "array([0.19151945, 0.62210877, 0.43772774, 0.78535858, 0.77997581])"
            ]
          },
          "metadata": {},
          "execution_count": 55
        }
      ]
    },
    {
      "cell_type": "markdown",
      "metadata": {
        "id": "pwMXGAwmRhpW"
      },
      "source": [
        "### seed 고정 후에 randint(5)"
      ]
    },
    {
      "cell_type": "code",
      "metadata": {
        "id": "tqmTOMMVRhGW",
        "colab": {
          "base_uri": "https://localhost:8080/"
        },
        "outputId": "ae05df04-e1be-4c40-a3f5-df2da1891117"
      },
      "source": [
        "np.random.seed(5678)\n",
        "np.random.randint(1,10,5)"
      ],
      "execution_count": 56,
      "outputs": [
        {
          "output_type": "execute_result",
          "data": {
            "text/plain": [
              "array([5, 8, 3, 5, 4])"
            ]
          },
          "metadata": {},
          "execution_count": 56
        }
      ]
    },
    {
      "cell_type": "code",
      "metadata": {
        "id": "YxQYjcOLSA-Z",
        "colab": {
          "base_uri": "https://localhost:8080/"
        },
        "outputId": "03bc959d-76f3-4a59-9ba2-b13ecdcbfef4"
      },
      "source": [
        "np.random.randint(1,10,5)"
      ],
      "execution_count": 57,
      "outputs": [
        {
          "output_type": "execute_result",
          "data": {
            "text/plain": [
              "array([6, 3, 7, 4, 1])"
            ]
          },
          "metadata": {},
          "execution_count": 57
        }
      ]
    },
    {
      "cell_type": "code",
      "metadata": {
        "id": "aQYF5QpGSD6p",
        "colab": {
          "base_uri": "https://localhost:8080/"
        },
        "outputId": "97680b4f-d2eb-4fb7-b5d4-914e4c18dc3f"
      },
      "source": [
        "np.random.seed(5678)\n",
        "np.random.randint(1,10,5)"
      ],
      "execution_count": 58,
      "outputs": [
        {
          "output_type": "execute_result",
          "data": {
            "text/plain": [
              "array([5, 8, 3, 5, 4])"
            ]
          },
          "metadata": {},
          "execution_count": 58
        }
      ]
    },
    {
      "cell_type": "code",
      "metadata": {
        "id": "cfIhMEcVSGKa",
        "colab": {
          "base_uri": "https://localhost:8080/"
        },
        "outputId": "7bd94119-0dc6-4886-df66-efe5b1b5102c"
      },
      "source": [
        "np.random.seed(5678)\n",
        "np.random.randint(1,10,5)"
      ],
      "execution_count": 59,
      "outputs": [
        {
          "output_type": "execute_result",
          "data": {
            "text/plain": [
              "array([5, 8, 3, 5, 4])"
            ]
          },
          "metadata": {},
          "execution_count": 59
        }
      ]
    },
    {
      "cell_type": "code",
      "metadata": {
        "id": "Ik9a-QkcfLwy",
        "colab": {
          "base_uri": "https://localhost:8080/"
        },
        "outputId": "b33ed1ac-d543-43f8-fba4-9079cce2f602"
      },
      "source": [
        "# seed 변경\n",
        "np.random.seed(0)\n",
        "np.random.randint(1,10,5)"
      ],
      "execution_count": 60,
      "outputs": [
        {
          "output_type": "execute_result",
          "data": {
            "text/plain": [
              "array([6, 1, 4, 4, 8])"
            ]
          },
          "metadata": {},
          "execution_count": 60
        }
      ]
    },
    {
      "cell_type": "markdown",
      "metadata": {
        "id": "Zg3g31drmDMI"
      },
      "source": [
        "---\n",
        "---"
      ]
    },
    {
      "cell_type": "markdown",
      "metadata": {
        "id": "YNVh_pbhfROq"
      },
      "source": [
        "## DIY: 도전 코딩 - numpy 정리 과제\n",
        "- 생성된 마구잡이수를 조사하고 사용하기 \n",
        "- 9월19일 자정 마감."
      ]
    },
    {
      "cell_type": "markdown",
      "metadata": {
        "id": "vxNHFDSIgMmC"
      },
      "source": [
        "### [도전 1.] 0부터 9까지의 마구잡이 정수를 1000개 만들고 각 수의 빈도를 구하시오. "
      ]
    },
    {
      "cell_type": "code",
      "metadata": {
        "id": "qkDfXH1xgjBz",
        "colab": {
          "base_uri": "https://localhost:8080/"
        },
        "outputId": "cc6a9d57-c120-49d1-fffc-9c67dd64655e"
      },
      "source": [
        "# n1000=\n",
        "n1000 = np.random.randint(0,10,1000)\n",
        "n1000"
      ],
      "execution_count": 61,
      "outputs": [
        {
          "output_type": "execute_result",
          "data": {
            "text/plain": [
              "array([9, 3, 5, 2, 4, 7, 6, 8, 8, 1, 6, 7, 7, 8, 1, 5, 9, 8, 9, 4, 3, 0,\n",
              "       3, 5, 0, 2, 3, 8, 1, 3, 3, 3, 7, 0, 1, 9, 9, 0, 4, 7, 3, 2, 7, 2,\n",
              "       0, 0, 4, 5, 5, 6, 8, 4, 1, 4, 9, 8, 1, 1, 7, 9, 9, 3, 6, 7, 2, 0,\n",
              "       3, 5, 9, 4, 4, 6, 4, 4, 3, 4, 4, 8, 4, 3, 7, 5, 5, 0, 1, 5, 9, 3,\n",
              "       0, 5, 0, 1, 2, 4, 2, 0, 3, 2, 0, 7, 5, 9, 0, 2, 7, 2, 9, 2, 3, 3,\n",
              "       2, 3, 4, 1, 2, 9, 1, 4, 6, 8, 2, 3, 0, 0, 6, 0, 6, 3, 3, 8, 8, 8,\n",
              "       2, 3, 2, 0, 8, 8, 3, 8, 2, 8, 4, 3, 0, 4, 3, 6, 9, 8, 0, 8, 5, 9,\n",
              "       0, 9, 6, 5, 3, 1, 8, 0, 4, 9, 6, 5, 7, 8, 8, 9, 2, 8, 6, 6, 9, 1,\n",
              "       6, 8, 8, 3, 2, 3, 6, 3, 6, 5, 7, 0, 8, 4, 6, 5, 8, 2, 3, 9, 7, 5,\n",
              "       3, 4, 5, 3, 3, 7, 9, 9, 9, 7, 3, 2, 3, 9, 7, 7, 5, 1, 2, 2, 8, 1,\n",
              "       5, 8, 4, 0, 2, 5, 5, 0, 8, 1, 1, 0, 3, 8, 8, 4, 4, 0, 9, 3, 7, 3,\n",
              "       2, 1, 1, 2, 1, 4, 2, 5, 5, 5, 2, 5, 7, 7, 6, 1, 6, 7, 2, 3, 1, 9,\n",
              "       5, 9, 9, 2, 0, 9, 1, 9, 0, 6, 0, 4, 8, 4, 3, 3, 8, 8, 7, 0, 3, 8,\n",
              "       7, 7, 1, 8, 4, 7, 0, 4, 9, 0, 6, 4, 2, 4, 6, 3, 3, 7, 8, 5, 0, 8,\n",
              "       5, 4, 7, 4, 1, 3, 3, 9, 2, 5, 2, 3, 5, 7, 2, 7, 1, 6, 5, 0, 0, 3,\n",
              "       1, 9, 9, 6, 6, 7, 8, 8, 7, 0, 8, 6, 8, 9, 8, 3, 6, 1, 7, 4, 9, 2,\n",
              "       0, 8, 2, 7, 8, 4, 4, 1, 7, 6, 9, 4, 1, 5, 9, 7, 1, 3, 5, 7, 3, 6,\n",
              "       6, 7, 9, 1, 9, 6, 0, 3, 8, 4, 1, 4, 5, 0, 3, 1, 4, 4, 4, 0, 0, 8,\n",
              "       4, 6, 9, 3, 3, 2, 1, 2, 1, 3, 4, 1, 1, 0, 7, 8, 4, 3, 5, 6, 3, 2,\n",
              "       9, 8, 1, 4, 0, 8, 3, 9, 5, 5, 1, 7, 8, 6, 4, 7, 3, 5, 3, 6, 4, 7,\n",
              "       3, 0, 5, 9, 3, 7, 5, 5, 8, 0, 8, 3, 6, 9, 3, 2, 7, 0, 3, 0, 3, 6,\n",
              "       1, 9, 2, 9, 4, 9, 1, 3, 2, 4, 9, 7, 4, 9, 4, 1, 2, 7, 2, 3, 9, 7,\n",
              "       6, 6, 2, 3, 6, 0, 8, 0, 7, 6, 5, 9, 6, 5, 2, 7, 1, 9, 2, 2, 5, 6,\n",
              "       4, 2, 2, 1, 0, 9, 0, 2, 8, 3, 0, 8, 8, 1, 0, 5, 8, 2, 3, 5, 3, 8,\n",
              "       6, 4, 6, 3, 6, 2, 6, 5, 5, 9, 4, 6, 5, 1, 3, 3, 8, 9, 5, 5, 6, 0,\n",
              "       9, 7, 5, 1, 5, 6, 6, 8, 7, 5, 3, 2, 9, 9, 3, 2, 5, 4, 1, 5, 8, 3,\n",
              "       5, 8, 4, 1, 7, 8, 1, 2, 1, 1, 7, 5, 0, 4, 1, 1, 6, 6, 0, 2, 3, 7,\n",
              "       9, 2, 4, 9, 0, 6, 9, 2, 4, 7, 3, 0, 5, 4, 0, 2, 3, 1, 7, 1, 3, 4,\n",
              "       1, 7, 4, 0, 2, 7, 4, 0, 2, 6, 9, 2, 4, 9, 9, 5, 4, 4, 9, 8, 1, 5,\n",
              "       7, 0, 1, 3, 9, 2, 8, 2, 4, 8, 2, 9, 8, 7, 8, 2, 3, 3, 6, 0, 3, 6,\n",
              "       3, 9, 6, 3, 2, 2, 2, 6, 4, 6, 0, 4, 9, 2, 1, 6, 1, 7, 5, 6, 1, 6,\n",
              "       6, 6, 6, 2, 5, 2, 2, 3, 2, 9, 3, 8, 5, 4, 5, 1, 5, 8, 2, 9, 9, 5,\n",
              "       6, 4, 0, 8, 5, 5, 5, 1, 0, 0, 0, 0, 0, 7, 6, 3, 5, 4, 3, 4, 5, 1,\n",
              "       3, 6, 7, 4, 0, 0, 7, 3, 3, 0, 0, 9, 4, 4, 5, 8, 8, 0, 1, 5, 9, 9,\n",
              "       6, 1, 4, 0, 4, 7, 7, 7, 6, 2, 6, 0, 2, 7, 7, 2, 6, 1, 3, 7, 0, 5,\n",
              "       4, 5, 5, 3, 8, 0, 1, 5, 4, 1, 5, 0, 6, 8, 8, 6, 3, 4, 4, 3, 6, 5,\n",
              "       9, 8, 1, 3, 8, 1, 5, 8, 0, 3, 7, 1, 7, 8, 0, 7, 5, 9, 9, 6, 8, 7,\n",
              "       5, 9, 1, 0, 0, 5, 6, 3, 6, 1, 7, 7, 0, 7, 6, 0, 4, 2, 7, 5, 2, 8,\n",
              "       5, 6, 6, 4, 1, 5, 4, 5, 5, 6, 3, 8, 1, 4, 2, 9, 7, 4, 1, 8, 2, 3,\n",
              "       3, 4, 1, 6, 2, 5, 4, 9, 1, 5, 9, 4, 5, 7, 4, 4, 2, 2, 1, 3, 0, 1,\n",
              "       9, 1, 6, 9, 8, 6, 3, 0, 7, 3, 2, 5, 9, 7, 3, 4, 7, 6, 7, 3, 6, 9,\n",
              "       3, 7, 1, 3, 7, 8, 8, 4, 5, 3, 6, 9, 6, 2, 9, 3, 5, 7, 9, 0, 7, 1,\n",
              "       2, 5, 0, 5, 8, 9, 8, 2, 5, 3, 1, 7, 3, 8, 5, 5, 1, 9, 7, 2, 1, 0,\n",
              "       1, 0, 1, 1, 6, 8, 8, 3, 2, 0, 7, 4, 6, 0, 5, 3, 3, 9, 4, 9, 0, 6,\n",
              "       5, 3, 0, 0, 1, 2, 0, 2, 2, 9, 6, 7, 8, 9, 8, 2, 4, 7, 7, 5, 7, 2,\n",
              "       4, 1, 1, 1, 7, 9, 0, 9, 0, 2])"
            ]
          },
          "metadata": {},
          "execution_count": 61
        }
      ]
    },
    {
      "cell_type": "code",
      "metadata": {
        "id": "9_6nzbQD3FZi",
        "colab": {
          "base_uri": "https://localhost:8080/"
        },
        "outputId": "b565cfb0-8d7c-4fa9-fb27-187181a3532f"
      },
      "source": [
        "np.unique(n1000)"
      ],
      "execution_count": 62,
      "outputs": [
        {
          "output_type": "execute_result",
          "data": {
            "text/plain": [
              "array([0, 1, 2, 3, 4, 5, 6, 7, 8, 9])"
            ]
          },
          "metadata": {},
          "execution_count": 62
        }
      ]
    },
    {
      "cell_type": "code",
      "metadata": {
        "id": "eiw9R1243Rzp",
        "colab": {
          "base_uri": "https://localhost:8080/"
        },
        "outputId": "ccd37535-ed01-494e-ded1-84a6309fa0e6"
      },
      "source": [
        "# 각 수의 빈도\n",
        "np.bincount(n1000)"
      ],
      "execution_count": 63,
      "outputs": [
        {
          "output_type": "execute_result",
          "data": {
            "text/plain": [
              "array([100,  96,  98, 120,  99, 104,  94,  96,  95,  98])"
            ]
          },
          "metadata": {},
          "execution_count": 63
        }
      ]
    },
    {
      "cell_type": "markdown",
      "metadata": {
        "id": "cIhlY6-GghMN"
      },
      "source": [
        "### [도전 2.] 0부터 9까지의 마구잡이 정수를 1000개 만들고 각 수가 처음 출현하는 인덱스를 구하시오.\n",
        "> 0이 처음 나타날 때의 인덱스, 1이 처음 나타날 때의 인덱스, ... "
      ]
    },
    {
      "cell_type": "code",
      "metadata": {
        "colab": {
          "base_uri": "https://localhost:8080/"
        },
        "id": "ItCvUgtU49Ni",
        "outputId": "d476115b-5de0-4ada-edda-8381a78f0d2b"
      },
      "source": [
        "n1000[0],n1000[800]"
      ],
      "execution_count": 64,
      "outputs": [
        {
          "output_type": "execute_result",
          "data": {
            "text/plain": [
              "(9, 0)"
            ]
          },
          "metadata": {},
          "execution_count": 64
        }
      ]
    },
    {
      "cell_type": "code",
      "metadata": {
        "id": "oA1ec_RjgL3X"
      },
      "source": [
        "# 각 수가 처음 출현하는 인덱스\n"
      ],
      "execution_count": 65,
      "outputs": []
    },
    {
      "cell_type": "code",
      "metadata": {
        "id": "yubibMMZ4AZS"
      },
      "source": [
        "# n1000[index]"
      ],
      "execution_count": 66,
      "outputs": []
    },
    {
      "cell_type": "markdown",
      "metadata": {
        "id": "sadkRzWjgiTM"
      },
      "source": [
        "### [도전 3.] seed를 1234로 고정하고, 위의 도전1,2를 다시 해보시오. "
      ]
    },
    {
      "cell_type": "markdown",
      "metadata": {
        "id": "zAGojAainnox"
      },
      "source": [
        "### [도전 4.] 0부터 999까지의 마구잡이 정수로 구성되는 28X28 이차원배열을 만드시오.\n",
        "- 시드를 고정 : np.random.seed(1234)\n",
        "1. 각 행의 최대값, 최소갑을 구하시오.\n",
        "2. 배열 전체의 최대값, 최소값을 구하시오.\n",
        "3. 배열전체의 최대값, 최소값의 index를 각각 찾으시오."
      ]
    },
    {
      "cell_type": "code",
      "metadata": {
        "id": "bQ8X8z8DDGIp",
        "colab": {
          "base_uri": "https://localhost:8080/",
          "height": 280
        },
        "outputId": "629a220c-dd56-493d-f69b-fe181b6e52d2"
      },
      "source": [
        "np.random.seed(1234)\n",
        "n2828 = np.random.randint(1000,28*28).reshape(28,28)\n",
        "n2828"
      ],
      "execution_count": 67,
      "outputs": [
        {
          "output_type": "error",
          "ename": "ValueError",
          "evalue": "ignored",
          "traceback": [
            "\u001b[0;31m---------------------------------------------------------------------------\u001b[0m",
            "\u001b[0;31mValueError\u001b[0m                                Traceback (most recent call last)",
            "\u001b[0;32m<ipython-input-67-3eeb1be4de30>\u001b[0m in \u001b[0;36m<module>\u001b[0;34m()\u001b[0m\n\u001b[1;32m      1\u001b[0m \u001b[0mnp\u001b[0m\u001b[0;34m.\u001b[0m\u001b[0mrandom\u001b[0m\u001b[0;34m.\u001b[0m\u001b[0mseed\u001b[0m\u001b[0;34m(\u001b[0m\u001b[0;36m1234\u001b[0m\u001b[0;34m)\u001b[0m\u001b[0;34m\u001b[0m\u001b[0;34m\u001b[0m\u001b[0m\n\u001b[0;32m----> 2\u001b[0;31m \u001b[0mn2828\u001b[0m \u001b[0;34m=\u001b[0m \u001b[0mnp\u001b[0m\u001b[0;34m.\u001b[0m\u001b[0mrandom\u001b[0m\u001b[0;34m.\u001b[0m\u001b[0mrandint\u001b[0m\u001b[0;34m(\u001b[0m\u001b[0;36m1000\u001b[0m\u001b[0;34m,\u001b[0m\u001b[0;36m28\u001b[0m\u001b[0;34m*\u001b[0m\u001b[0;36m28\u001b[0m\u001b[0;34m)\u001b[0m\u001b[0;34m.\u001b[0m\u001b[0mreshape\u001b[0m\u001b[0;34m(\u001b[0m\u001b[0;36m28\u001b[0m\u001b[0;34m,\u001b[0m\u001b[0;36m28\u001b[0m\u001b[0;34m)\u001b[0m\u001b[0;34m\u001b[0m\u001b[0;34m\u001b[0m\u001b[0m\n\u001b[0m\u001b[1;32m      3\u001b[0m \u001b[0mn2828\u001b[0m\u001b[0;34m\u001b[0m\u001b[0;34m\u001b[0m\u001b[0m\n",
            "\u001b[0;32mmtrand.pyx\u001b[0m in \u001b[0;36mnumpy.random.mtrand.RandomState.randint\u001b[0;34m()\u001b[0m\n",
            "\u001b[0;32m_bounded_integers.pyx\u001b[0m in \u001b[0;36mnumpy.random._bounded_integers._rand_int64\u001b[0;34m()\u001b[0m\n",
            "\u001b[0;31mValueError\u001b[0m: low >= high"
          ]
        }
      ]
    },
    {
      "cell_type": "markdown",
      "metadata": {
        "id": "VoSu8rNOnwPU"
      },
      "source": [
        "---\n",
        "---"
      ]
    },
    {
      "cell_type": "markdown",
      "metadata": {
        "id": "ozoCcRquhg4p"
      },
      "source": [
        "## python graphics\n",
        "- matplotlib\n",
        "> import matplotlib.pyplot as plt"
      ]
    },
    {
      "cell_type": "markdown",
      "metadata": {
        "id": "h6yEJiGJ4Lbk"
      },
      "source": [
        "### 무작위수 분포 그려보기"
      ]
    },
    {
      "cell_type": "code",
      "metadata": {
        "id": "ngcwuNlfhrIQ"
      },
      "source": [
        "import matplotlib.pyplot as plt"
      ],
      "execution_count": 68,
      "outputs": []
    },
    {
      "cell_type": "code",
      "metadata": {
        "id": "jr30IHxvJDuE",
        "colab": {
          "base_uri": "https://localhost:8080/",
          "height": 319
        },
        "outputId": "9f3b51f1-a179-48ce-e2a4-754af88c5291"
      },
      "source": [
        "plt.hist(n1000,label=range(0,10), color='red') #bins=0)\n",
        "# plt.show()"
      ],
      "execution_count": 69,
      "outputs": [
        {
          "output_type": "execute_result",
          "data": {
            "text/plain": [
              "(array([100.,  96.,  98., 120.,  99., 104.,  94.,  96.,  95.,  98.]),\n",
              " array([0. , 0.9, 1.8, 2.7, 3.6, 4.5, 5.4, 6.3, 7.2, 8.1, 9. ]),\n",
              " <a list of 10 Patch objects>)"
            ]
          },
          "metadata": {},
          "execution_count": 69
        },
        {
          "output_type": "display_data",
          "data": {
            "image/png": "[encoded data removed]",
            "text/plain": [
              "<Figure size 432x288 with 1 Axes>"
            ]
          },
          "metadata": {
            "needs_background": "light"
          }
        }
      ]
    },
    {
      "cell_type": "markdown",
      "metadata": {
        "id": "b-JcgSU-Ktyz"
      },
      "source": [
        "### [도전] 균일분포와 정규분포를 비교하는 그림을 그리시오."
      ]
    },
    {
      "cell_type": "code",
      "metadata": {
        "id": "k0XaT2f9JGZy",
        "colab": {
          "base_uri": "https://localhost:8080/",
          "height": 384
        },
        "outputId": "94d4e175-f806-42cf-ee8e-fc65cc8312a8"
      },
      "source": [
        "plt.hist(np.random.rand(10000000))"
      ],
      "execution_count": 70,
      "outputs": [
        {
          "output_type": "execute_result",
          "data": {
            "text/plain": [
              "(array([ 998744., 1000273., 1000356.,  999795., 1001101.,  999534.,\n",
              "        1001412.,  998319.,  999153., 1001313.]),\n",
              " array([1.30942781e-07, 1.00000116e-01, 2.00000100e-01, 3.00000085e-01,\n",
              "        4.00000070e-01, 5.00000054e-01, 6.00000039e-01, 7.00000024e-01,\n",
              "        8.00000009e-01, 8.99999993e-01, 9.99999978e-01]),\n",
              " <a list of 10 Patch objects>)"
            ]
          },
          "metadata": {},
          "execution_count": 70
        },
        {
          "output_type": "display_data",
          "data": {
            "image/png": "[encoded data removed]",
            "text/plain": [
              "<Figure size 432x288 with 1 Axes>"
            ]
          },
          "metadata": {
            "needs_background": "light"
          }
        }
      ]
    },
    {
      "cell_type": "code",
      "metadata": {
        "id": "T8SCqKVeMhBF",
        "colab": {
          "base_uri": "https://localhost:8080/",
          "height": 661
        },
        "outputId": "4fbb777f-3fb7-47de-bb68-2f1f73569b69"
      },
      "source": [
        "plt.hist(np.random.randn(10000000), bins=50)"
      ],
      "execution_count": 71,
      "outputs": [
        {
          "output_type": "execute_result",
          "data": {
            "text/plain": [
              "(array([9.00000e+00, 1.60000e+01, 4.70000e+01, 1.15000e+02, 2.41000e+02,\n",
              "        5.61000e+02, 1.26700e+03, 2.70700e+03, 5.33200e+03, 9.97600e+03,\n",
              "        1.79900e+04, 3.16260e+04, 5.31790e+04, 8.47870e+04, 1.29736e+05,\n",
              "        1.89953e+05, 2.67253e+05, 3.58380e+05, 4.62272e+05, 5.66782e+05,\n",
              "        6.66381e+05, 7.51431e+05, 8.09864e+05, 8.33568e+05, 8.23965e+05,\n",
              "        7.79344e+05, 7.06489e+05, 6.09900e+05, 5.03378e+05, 4.00824e+05,\n",
              "        3.04242e+05, 2.20420e+05, 1.52549e+05, 1.02368e+05, 6.45080e+04,\n",
              "        3.96610e+04, 2.27200e+04, 1.28400e+04, 6.76400e+03, 3.38800e+03,\n",
              "        1.69900e+03, 8.23000e+02, 3.73000e+02, 1.60000e+02, 7.30000e+01,\n",
              "        2.60000e+01, 1.10000e+01, 1.00000e+00, 0.00000e+00, 1.00000e+00]),\n",
              " array([-4.97758451, -4.76761515, -4.5576458 , -4.34767644, -4.13770708,\n",
              "        -3.92773772, -3.71776836, -3.50779901, -3.29782965, -3.08786029,\n",
              "        -2.87789093, -2.66792158, -2.45795222, -2.24798286, -2.0380135 ,\n",
              "        -1.82804414, -1.61807479, -1.40810543, -1.19813607, -0.98816671,\n",
              "        -0.77819736, -0.568228  , -0.35825864, -0.14828928,  0.06168008,\n",
              "         0.27164943,  0.48161879,  0.69158815,  0.90155751,  1.11152686,\n",
              "         1.32149622,  1.53146558,  1.74143494,  1.9514043 ,  2.16137365,\n",
              "         2.37134301,  2.58131237,  2.79128173,  3.00125108,  3.21122044,\n",
              "         3.4211898 ,  3.63115916,  3.84112851,  4.05109787,  4.26106723,\n",
              "         4.47103659,  4.68100595,  4.8909753 ,  5.10094466,  5.31091402,\n",
              "         5.52088338]),\n",
              " <a list of 50 Patch objects>)"
            ]
          },
          "metadata": {},
          "execution_count": 71
        },
        {
          "output_type": "display_data",
          "data": {
            "image/png": "[encoded data removed]",
            "text/plain": [
              "<Figure size 432x288 with 1 Axes>"
            ]
          },
          "metadata": {
            "needs_background": "light"
          }
        }
      ]
    },
    {
      "cell_type": "markdown",
      "metadata": {
        "id": "LYthn3089aqD"
      },
      "source": [
        "## 보충 코드"
      ]
    },
    {
      "cell_type": "code",
      "metadata": {
        "id": "BUkVDXTJMkwc",
        "colab": {
          "base_uri": "https://localhost:8080/"
        },
        "outputId": "ff0790b5-2ebc-4528-84d1-74a50f24a7f9"
      },
      "source": [
        "n1000 = np.random.randint(0,10,1000)\n",
        "n1000"
      ],
      "execution_count": 72,
      "outputs": [
        {
          "output_type": "execute_result",
          "data": {
            "text/plain": [
              "array([5, 6, 1, 4, 9, 1, 7, 7, 2, 8, 2, 4, 6, 2, 3, 9, 4, 6, 2, 7, 1, 4,\n",
              "       6, 3, 6, 6, 6, 9, 6, 9, 3, 5, 4, 1, 4, 9, 3, 0, 8, 4, 2, 3, 3, 6,\n",
              "       3, 3, 1, 3, 2, 2, 3, 8, 3, 4, 2, 9, 7, 4, 0, 7, 8, 5, 7, 5, 6, 8,\n",
              "       1, 4, 1, 3, 6, 1, 8, 0, 3, 4, 3, 8, 4, 2, 5, 7, 2, 1, 0, 9, 3, 2,\n",
              "       5, 9, 3, 6, 0, 4, 5, 6, 1, 4, 3, 5, 8, 7, 6, 6, 2, 3, 1, 8, 4, 3,\n",
              "       6, 2, 5, 3, 0, 2, 0, 1, 6, 3, 6, 8, 4, 2, 5, 1, 4, 0, 0, 9, 6, 6,\n",
              "       3, 1, 7, 9, 2, 8, 9, 1, 1, 7, 2, 9, 1, 4, 1, 2, 9, 0, 7, 0, 1, 8,\n",
              "       5, 6, 4, 9, 7, 5, 0, 4, 4, 0, 2, 9, 5, 8, 1, 6, 2, 1, 3, 3, 8, 4,\n",
              "       9, 1, 1, 7, 6, 4, 0, 8, 1, 1, 0, 8, 0, 0, 8, 4, 1, 0, 0, 4, 4, 4,\n",
              "       1, 0, 9, 6, 5, 0, 4, 7, 0, 7, 7, 5, 3, 2, 8, 3, 4, 0, 0, 1, 0, 3,\n",
              "       3, 8, 7, 2, 8, 0, 3, 9, 7, 9, 1, 2, 9, 3, 5, 1, 6, 7, 7, 8, 5, 5,\n",
              "       5, 2, 6, 3, 1, 0, 9, 4, 2, 3, 3, 0, 5, 5, 8, 1, 1, 9, 9, 0, 9, 4,\n",
              "       0, 1, 7, 5, 2, 7, 7, 9, 2, 9, 7, 4, 3, 6, 8, 0, 6, 9, 0, 4, 5, 5,\n",
              "       8, 6, 4, 5, 8, 5, 5, 5, 3, 5, 1, 9, 9, 9, 1, 2, 0, 5, 5, 8, 7, 3,\n",
              "       6, 0, 7, 1, 5, 4, 6, 7, 9, 9, 9, 3, 5, 7, 4, 1, 7, 5, 7, 5, 1, 3,\n",
              "       2, 9, 1, 6, 0, 0, 7, 9, 1, 4, 3, 6, 5, 1, 3, 1, 1, 4, 3, 7, 1, 0,\n",
              "       4, 4, 2, 3, 7, 5, 1, 9, 0, 2, 4, 8, 6, 2, 0, 1, 8, 0, 6, 2, 5, 0,\n",
              "       2, 8, 2, 2, 9, 0, 4, 3, 9, 4, 8, 6, 5, 4, 4, 9, 6, 0, 7, 3, 4, 4,\n",
              "       5, 5, 9, 6, 9, 4, 7, 5, 5, 6, 0, 6, 4, 3, 5, 6, 9, 7, 0, 5, 8, 3,\n",
              "       2, 2, 9, 2, 5, 9, 2, 7, 0, 4, 6, 3, 9, 5, 3, 4, 1, 2, 2, 6, 4, 6,\n",
              "       2, 9, 1, 9, 7, 8, 0, 0, 3, 4, 6, 1, 4, 2, 0, 7, 8, 6, 2, 5, 6, 0,\n",
              "       0, 6, 9, 4, 9, 5, 6, 7, 1, 8, 9, 0, 6, 9, 4, 7, 0, 7, 4, 5, 6, 2,\n",
              "       3, 0, 8, 0, 3, 4, 5, 5, 0, 4, 8, 1, 4, 3, 0, 2, 8, 0, 6, 2, 9, 3,\n",
              "       1, 7, 0, 3, 4, 2, 5, 9, 3, 8, 8, 7, 5, 1, 5, 6, 8, 2, 0, 2, 3, 6,\n",
              "       0, 4, 9, 8, 7, 2, 1, 7, 3, 6, 6, 0, 3, 8, 8, 9, 1, 6, 9, 9, 3, 3,\n",
              "       1, 1, 0, 4, 5, 2, 0, 7, 8, 1, 7, 1, 7, 7, 9, 6, 8, 3, 4, 6, 9, 5,\n",
              "       3, 2, 8, 6, 1, 9, 9, 0, 1, 3, 7, 9, 1, 6, 8, 8, 4, 1, 3, 9, 5, 7,\n",
              "       7, 7, 9, 0, 2, 5, 6, 3, 8, 9, 9, 7, 7, 8, 1, 0, 9, 9, 1, 5, 8, 3,\n",
              "       0, 3, 8, 8, 0, 4, 4, 1, 7, 2, 4, 7, 3, 9, 5, 4, 0, 9, 9, 0, 2, 2,\n",
              "       1, 7, 4, 2, 0, 3, 6, 7, 4, 2, 2, 2, 2, 4, 9, 6, 7, 6, 7, 3, 2, 3,\n",
              "       8, 8, 8, 3, 6, 0, 4, 8, 4, 3, 8, 8, 9, 4, 7, 1, 1, 2, 6, 5, 1, 0,\n",
              "       9, 4, 1, 3, 1, 3, 6, 0, 9, 3, 4, 6, 1, 4, 3, 8, 1, 0, 7, 6, 6, 8,\n",
              "       2, 3, 0, 0, 5, 1, 9, 6, 6, 9, 9, 3, 3, 4, 4, 7, 5, 9, 8, 9, 6, 0,\n",
              "       9, 8, 0, 9, 0, 8, 8, 6, 2, 9, 9, 5, 8, 4, 2, 7, 1, 1, 5, 5, 7, 1,\n",
              "       6, 9, 4, 0, 6, 7, 3, 7, 0, 2, 3, 6, 6, 1, 1, 7, 8, 9, 2, 5, 2, 6,\n",
              "       8, 3, 5, 9, 8, 9, 2, 4, 7, 8, 7, 5, 6, 3, 9, 1, 0, 1, 0, 5, 0, 0,\n",
              "       3, 8, 8, 8, 4, 0, 9, 1, 6, 6, 8, 1, 4, 0, 5, 3, 6, 6, 9, 0, 2, 9,\n",
              "       8, 5, 8, 6, 8, 5, 3, 8, 7, 1, 5, 7, 6, 6, 9, 5, 1, 0, 0, 0, 9, 4,\n",
              "       2, 3, 9, 2, 6, 7, 0, 0, 2, 2, 8, 3, 2, 5, 2, 2, 0, 1, 4, 2, 3, 6,\n",
              "       1, 7, 0, 2, 2, 7, 0, 4, 6, 7, 9, 1, 9, 1, 5, 9, 1, 2, 0, 5, 0, 6,\n",
              "       5, 5, 0, 9, 5, 6, 3, 2, 9, 7, 4, 3, 1, 4, 1, 1, 5, 0, 5, 5, 5, 2,\n",
              "       9, 4, 9, 8, 8, 3, 3, 0, 5, 6, 8, 8, 6, 7, 7, 5, 8, 4, 1, 7, 5, 3,\n",
              "       0, 3, 2, 4, 9, 1, 7, 1, 6, 2, 3, 3, 2, 8, 6, 6, 0, 2, 7, 0, 8, 2,\n",
              "       6, 3, 0, 0, 5, 1, 7, 2, 0, 8, 5, 9, 1, 9, 4, 5, 9, 8, 3, 5, 6, 3,\n",
              "       9, 6, 2, 3, 9, 7, 0, 5, 5, 5, 2, 1, 3, 0, 9, 5, 7, 4, 1, 4, 8, 0,\n",
              "       9, 7, 8, 9, 5, 3, 0, 2, 3, 4])"
            ]
          },
          "metadata": {},
          "execution_count": 72
        }
      ]
    },
    {
      "cell_type": "code",
      "metadata": {
        "id": "xza_yV8nMshU"
      },
      "source": [
        "value, count= np.unique(n1000, return_counts=True)"
      ],
      "execution_count": 73,
      "outputs": []
    },
    {
      "cell_type": "code",
      "metadata": {
        "id": "al1pM1aK9Vk7",
        "colab": {
          "base_uri": "https://localhost:8080/"
        },
        "outputId": "d0c1b503-a934-431c-b832-f5fa5b5e6449"
      },
      "source": [
        "value, count"
      ],
      "execution_count": 74,
      "outputs": [
        {
          "output_type": "execute_result",
          "data": {
            "text/plain": [
              "(array([0, 1, 2, 3, 4, 5, 6, 7, 8, 9]),\n",
              " array([113, 102,  95, 105,  97,  98, 101,  88,  90, 111]))"
            ]
          },
          "metadata": {},
          "execution_count": 74
        }
      ]
    }
  ]
}