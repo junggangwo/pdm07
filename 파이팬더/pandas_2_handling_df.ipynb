{
  "nbformat": 4,
  "nbformat_minor": 0,
  "metadata": {
    "kernelspec": {
      "name": "python3",
      "display_name": "Python 3"
    },
    "language_info": {
      "codemirror_mode": {
        "name": "ipython",
        "version": 3
      },
      "file_extension": ".py",
      "mimetype": "text/x-python",
      "name": "python",
      "nbconvert_exporter": "python",
      "pygments_lexer": "ipython3",
      "version": "3.6.6"
    },
    "colab": {
      "name": "pandas_2_handling_df.ipynb",
      "provenance": [],
      "collapsed_sections": [],
      "include_colab_link": true
    }
  },
  "cells": [
    {
      "cell_type": "markdown",
      "metadata": {
        "id": "view-in-github",
        "colab_type": "text"
      },
      "source": [
        "<a href=\"https://colab.research.google.com/github/junggangwo/pdm07/blob/main/%ED%8C%8C%EC%9D%B4%ED%8C%AC%EB%8D%94/pandas_2_handling_df.ipynb\" target=\"_parent\"><img src=\"https://colab.research.google.com/assets/colab-badge.svg\" alt=\"Open In Colab\"/></a>"
      ]
    },
    {
      "cell_type": "markdown",
      "metadata": {
        "id": "-a_Ksvwdx5pf"
      },
      "source": [
        "### Python module 3. **pandas**"
      ]
    },
    {
      "cell_type": "markdown",
      "metadata": {
        "id": "P_F0RSPKx5pl"
      },
      "source": [
        "# Using pandas"
      ]
    },
    {
      "cell_type": "markdown",
      "metadata": {
        "id": "FfxMgWUFx5pm"
      },
      "source": [
        "* [10 Minutes to pandas](https://pandas.pydata.org/pandas-docs/stable/10min.html)\n",
        "* [Pandas tutorial with interactive exercises](https://www.kaggle.com/pistak/pandas-tutorial-with-interactive-exercises)"
      ]
    },
    {
      "cell_type": "code",
      "metadata": {
        "id": "2mpGSeRlx5po"
      },
      "source": [
        "import pandas as pd\n",
        "import numpy as np\n",
        "import matplotlib.pyplot as plt\n",
        "# %matplotlib inline  # work for Jupyter notebook or lab"
      ],
      "execution_count": 1,
      "outputs": []
    },
    {
      "cell_type": "markdown",
      "metadata": {
        "id": "wq1nIp3F1fFB"
      },
      "source": [
        "\n",
        "\n",
        "---\n",
        "\n"
      ]
    },
    {
      "cell_type": "markdown",
      "metadata": {
        "id": "D3zoFQ4bx5qh"
      },
      "source": [
        "## [2] Handling DataFrame\n",
        "- head()\n",
        "- tail()\n",
        "- describe()\n",
        "- info()"
      ]
    },
    {
      "cell_type": "code",
      "metadata": {
        "id": "w2eNkCfLx5p-",
        "colab": {
          "base_uri": "https://localhost:8080/"
        },
        "outputId": "735af560-53af-4d9f-ff6f-c231f33480b4"
      },
      "source": [
        "# Creating a DataFrame by passing a NumPy array, with a datetime index and labeled columns:\n",
        "dates = pd.date_range('20210927', periods=6)\n",
        "dates"
      ],
      "execution_count": 2,
      "outputs": [
        {
          "output_type": "execute_result",
          "data": {
            "text/plain": [
              "DatetimeIndex(['2021-09-27', '2021-09-28', '2021-09-29', '2021-09-30',\n",
              "               '2021-10-01', '2021-10-02'],\n",
              "              dtype='datetime64[ns]', freq='D')"
            ]
          },
          "metadata": {},
          "execution_count": 2
        }
      ]
    },
    {
      "cell_type": "code",
      "metadata": {
        "id": "dHwUodTGx5qj",
        "colab": {
          "base_uri": "https://localhost:8080/",
          "height": 204
        },
        "outputId": "7f266590-d841-49c8-aaa6-f3fff21393e3"
      },
      "source": [
        "# head()\n",
        "df = pd.DataFrame(np.random.randn(6,4), index=dates, columns=list('ABCD'))\n",
        "df.head()"
      ],
      "execution_count": 3,
      "outputs": [
        {
          "output_type": "execute_result",
          "data": {
            "text/html": [
              "<div>\n",
              "<style scoped>\n",
              "    .dataframe tbody tr th:only-of-type {\n",
              "        vertical-align: middle;\n",
              "    }\n",
              "\n",
              "    .dataframe tbody tr th {\n",
              "        vertical-align: top;\n",
              "    }\n",
              "\n",
              "    .dataframe thead th {\n",
              "        text-align: right;\n",
              "    }\n",
              "</style>\n",
              "<table border=\"1\" class=\"dataframe\">\n",
              "  <thead>\n",
              "    <tr style=\"text-align: right;\">\n",
              "      <th></th>\n",
              "      <th>A</th>\n",
              "      <th>B</th>\n",
              "      <th>C</th>\n",
              "      <th>D</th>\n",
              "    </tr>\n",
              "  </thead>\n",
              "  <tbody>\n",
              "    <tr>\n",
              "      <th>2021-09-27</th>\n",
              "      <td>-1.518768</td>\n",
              "      <td>0.104712</td>\n",
              "      <td>0.185192</td>\n",
              "      <td>-0.928384</td>\n",
              "    </tr>\n",
              "    <tr>\n",
              "      <th>2021-09-28</th>\n",
              "      <td>-0.202560</td>\n",
              "      <td>-1.205742</td>\n",
              "      <td>-1.207697</td>\n",
              "      <td>-0.372979</td>\n",
              "    </tr>\n",
              "    <tr>\n",
              "      <th>2021-09-29</th>\n",
              "      <td>0.154829</td>\n",
              "      <td>-0.001987</td>\n",
              "      <td>0.021787</td>\n",
              "      <td>0.368293</td>\n",
              "    </tr>\n",
              "    <tr>\n",
              "      <th>2021-09-30</th>\n",
              "      <td>1.969910</td>\n",
              "      <td>-1.027230</td>\n",
              "      <td>-0.100230</td>\n",
              "      <td>0.416002</td>\n",
              "    </tr>\n",
              "    <tr>\n",
              "      <th>2021-10-01</th>\n",
              "      <td>1.658594</td>\n",
              "      <td>-0.064209</td>\n",
              "      <td>1.393001</td>\n",
              "      <td>0.581865</td>\n",
              "    </tr>\n",
              "  </tbody>\n",
              "</table>\n",
              "</div>"
            ],
            "text/plain": [
              "                   A         B         C         D\n",
              "2021-09-27 -1.518768  0.104712  0.185192 -0.928384\n",
              "2021-09-28 -0.202560 -1.205742 -1.207697 -0.372979\n",
              "2021-09-29  0.154829 -0.001987  0.021787  0.368293\n",
              "2021-09-30  1.969910 -1.027230 -0.100230  0.416002\n",
              "2021-10-01  1.658594 -0.064209  1.393001  0.581865"
            ]
          },
          "metadata": {},
          "execution_count": 3
        }
      ]
    },
    {
      "cell_type": "code",
      "metadata": {
        "id": "OvYDoBVE1og9",
        "colab": {
          "base_uri": "https://localhost:8080/",
          "height": 111
        },
        "outputId": "ce83b197-43a1-48ce-8c07-a4c647d207ed"
      },
      "source": [
        "df.head(2) # 윗 부분 2개 (index 0, 1)"
      ],
      "execution_count": 4,
      "outputs": [
        {
          "output_type": "execute_result",
          "data": {
            "text/html": [
              "<div>\n",
              "<style scoped>\n",
              "    .dataframe tbody tr th:only-of-type {\n",
              "        vertical-align: middle;\n",
              "    }\n",
              "\n",
              "    .dataframe tbody tr th {\n",
              "        vertical-align: top;\n",
              "    }\n",
              "\n",
              "    .dataframe thead th {\n",
              "        text-align: right;\n",
              "    }\n",
              "</style>\n",
              "<table border=\"1\" class=\"dataframe\">\n",
              "  <thead>\n",
              "    <tr style=\"text-align: right;\">\n",
              "      <th></th>\n",
              "      <th>A</th>\n",
              "      <th>B</th>\n",
              "      <th>C</th>\n",
              "      <th>D</th>\n",
              "    </tr>\n",
              "  </thead>\n",
              "  <tbody>\n",
              "    <tr>\n",
              "      <th>2021-09-27</th>\n",
              "      <td>-1.518768</td>\n",
              "      <td>0.104712</td>\n",
              "      <td>0.185192</td>\n",
              "      <td>-0.928384</td>\n",
              "    </tr>\n",
              "    <tr>\n",
              "      <th>2021-09-28</th>\n",
              "      <td>-0.202560</td>\n",
              "      <td>-1.205742</td>\n",
              "      <td>-1.207697</td>\n",
              "      <td>-0.372979</td>\n",
              "    </tr>\n",
              "  </tbody>\n",
              "</table>\n",
              "</div>"
            ],
            "text/plain": [
              "                   A         B         C         D\n",
              "2021-09-27 -1.518768  0.104712  0.185192 -0.928384\n",
              "2021-09-28 -0.202560 -1.205742 -1.207697 -0.372979"
            ]
          },
          "metadata": {},
          "execution_count": 4
        }
      ]
    },
    {
      "cell_type": "code",
      "metadata": {
        "id": "LzWwuDWDx5qo",
        "colab": {
          "base_uri": "https://localhost:8080/",
          "height": 142
        },
        "outputId": "e04e1a94-b957-4502-ed7d-7b2172aa7721"
      },
      "source": [
        "df.tail(3) # 아래 부분 3개 (index 0, 1, 2)"
      ],
      "execution_count": 5,
      "outputs": [
        {
          "output_type": "execute_result",
          "data": {
            "text/html": [
              "<div>\n",
              "<style scoped>\n",
              "    .dataframe tbody tr th:only-of-type {\n",
              "        vertical-align: middle;\n",
              "    }\n",
              "\n",
              "    .dataframe tbody tr th {\n",
              "        vertical-align: top;\n",
              "    }\n",
              "\n",
              "    .dataframe thead th {\n",
              "        text-align: right;\n",
              "    }\n",
              "</style>\n",
              "<table border=\"1\" class=\"dataframe\">\n",
              "  <thead>\n",
              "    <tr style=\"text-align: right;\">\n",
              "      <th></th>\n",
              "      <th>A</th>\n",
              "      <th>B</th>\n",
              "      <th>C</th>\n",
              "      <th>D</th>\n",
              "    </tr>\n",
              "  </thead>\n",
              "  <tbody>\n",
              "    <tr>\n",
              "      <th>2021-09-30</th>\n",
              "      <td>1.969910</td>\n",
              "      <td>-1.027230</td>\n",
              "      <td>-0.100230</td>\n",
              "      <td>0.416002</td>\n",
              "    </tr>\n",
              "    <tr>\n",
              "      <th>2021-10-01</th>\n",
              "      <td>1.658594</td>\n",
              "      <td>-0.064209</td>\n",
              "      <td>1.393001</td>\n",
              "      <td>0.581865</td>\n",
              "    </tr>\n",
              "    <tr>\n",
              "      <th>2021-10-02</th>\n",
              "      <td>-0.791727</td>\n",
              "      <td>1.700479</td>\n",
              "      <td>1.069872</td>\n",
              "      <td>-0.561316</td>\n",
              "    </tr>\n",
              "  </tbody>\n",
              "</table>\n",
              "</div>"
            ],
            "text/plain": [
              "                   A         B         C         D\n",
              "2021-09-30  1.969910 -1.027230 -0.100230  0.416002\n",
              "2021-10-01  1.658594 -0.064209  1.393001  0.581865\n",
              "2021-10-02 -0.791727  1.700479  1.069872 -0.561316"
            ]
          },
          "metadata": {},
          "execution_count": 5
        }
      ]
    },
    {
      "cell_type": "code",
      "metadata": {
        "id": "rJLH024Zx5qs",
        "colab": {
          "base_uri": "https://localhost:8080/"
        },
        "outputId": "467b877c-bab8-413b-dd02-450380f72804"
      },
      "source": [
        "# Display the index, columns, and the underlying NumPy data:\n",
        "df.index"
      ],
      "execution_count": 6,
      "outputs": [
        {
          "output_type": "execute_result",
          "data": {
            "text/plain": [
              "DatetimeIndex(['2021-09-27', '2021-09-28', '2021-09-29', '2021-09-30',\n",
              "               '2021-10-01', '2021-10-02'],\n",
              "              dtype='datetime64[ns]', freq='D')"
            ]
          },
          "metadata": {},
          "execution_count": 6
        }
      ]
    },
    {
      "cell_type": "code",
      "metadata": {
        "id": "edrGpQlLc0dt",
        "colab": {
          "base_uri": "https://localhost:8080/"
        },
        "outputId": "e668116f-1289-4abe-a660-c7443cc139bd"
      },
      "source": [
        "df.columns    # dtype='object: string 객체"
      ],
      "execution_count": 7,
      "outputs": [
        {
          "output_type": "execute_result",
          "data": {
            "text/plain": [
              "Index(['A', 'B', 'C', 'D'], dtype='object')"
            ]
          },
          "metadata": {},
          "execution_count": 7
        }
      ]
    },
    {
      "cell_type": "code",
      "metadata": {
        "id": "TB-CHW85x5rA",
        "colab": {
          "base_uri": "https://localhost:8080/"
        },
        "outputId": "52de87e7-f5cb-4a76-f47a-b72753751345"
      },
      "source": [
        "df.info()  # non-null: 값이 있음, 값이 비어있지 않음 (0도 값에 포함)"
      ],
      "execution_count": 8,
      "outputs": [
        {
          "output_type": "stream",
          "name": "stdout",
          "text": [
            "<class 'pandas.core.frame.DataFrame'>\n",
            "DatetimeIndex: 6 entries, 2021-09-27 to 2021-10-02\n",
            "Freq: D\n",
            "Data columns (total 4 columns):\n",
            " #   Column  Non-Null Count  Dtype  \n",
            "---  ------  --------------  -----  \n",
            " 0   A       6 non-null      float64\n",
            " 1   B       6 non-null      float64\n",
            " 2   C       6 non-null      float64\n",
            " 3   D       6 non-null      float64\n",
            "dtypes: float64(4)\n",
            "memory usage: 240.0 bytes\n"
          ]
        }
      ]
    },
    {
      "cell_type": "code",
      "metadata": {
        "id": "PEzVmjUAx5q7",
        "colab": {
          "base_uri": "https://localhost:8080/",
          "height": 297
        },
        "outputId": "15a45fc5-23d3-43f4-d09f-425ed5384599"
      },
      "source": [
        "# describe() shows a quick statistic summary of your data:\n",
        "df.describe()         # 각 열의 통계적인 분포를 보여줌"
      ],
      "execution_count": 9,
      "outputs": [
        {
          "output_type": "execute_result",
          "data": {
            "text/html": [
              "<div>\n",
              "<style scoped>\n",
              "    .dataframe tbody tr th:only-of-type {\n",
              "        vertical-align: middle;\n",
              "    }\n",
              "\n",
              "    .dataframe tbody tr th {\n",
              "        vertical-align: top;\n",
              "    }\n",
              "\n",
              "    .dataframe thead th {\n",
              "        text-align: right;\n",
              "    }\n",
              "</style>\n",
              "<table border=\"1\" class=\"dataframe\">\n",
              "  <thead>\n",
              "    <tr style=\"text-align: right;\">\n",
              "      <th></th>\n",
              "      <th>A</th>\n",
              "      <th>B</th>\n",
              "      <th>C</th>\n",
              "      <th>D</th>\n",
              "    </tr>\n",
              "  </thead>\n",
              "  <tbody>\n",
              "    <tr>\n",
              "      <th>count</th>\n",
              "      <td>6.000000</td>\n",
              "      <td>6.000000</td>\n",
              "      <td>6.000000</td>\n",
              "      <td>6.000000</td>\n",
              "    </tr>\n",
              "    <tr>\n",
              "      <th>mean</th>\n",
              "      <td>0.211713</td>\n",
              "      <td>-0.082329</td>\n",
              "      <td>0.226988</td>\n",
              "      <td>-0.082753</td>\n",
              "    </tr>\n",
              "    <tr>\n",
              "      <th>std</th>\n",
              "      <td>1.368286</td>\n",
              "      <td>1.036829</td>\n",
              "      <td>0.925126</td>\n",
              "      <td>0.620042</td>\n",
              "    </tr>\n",
              "    <tr>\n",
              "      <th>min</th>\n",
              "      <td>-1.518768</td>\n",
              "      <td>-1.205742</td>\n",
              "      <td>-1.207697</td>\n",
              "      <td>-0.928384</td>\n",
              "    </tr>\n",
              "    <tr>\n",
              "      <th>25%</th>\n",
              "      <td>-0.644435</td>\n",
              "      <td>-0.786475</td>\n",
              "      <td>-0.069726</td>\n",
              "      <td>-0.514232</td>\n",
              "    </tr>\n",
              "    <tr>\n",
              "      <th>50%</th>\n",
              "      <td>-0.023865</td>\n",
              "      <td>-0.033098</td>\n",
              "      <td>0.103490</td>\n",
              "      <td>-0.002343</td>\n",
              "    </tr>\n",
              "    <tr>\n",
              "      <th>75%</th>\n",
              "      <td>1.282652</td>\n",
              "      <td>0.078037</td>\n",
              "      <td>0.848702</td>\n",
              "      <td>0.404075</td>\n",
              "    </tr>\n",
              "    <tr>\n",
              "      <th>max</th>\n",
              "      <td>1.969910</td>\n",
              "      <td>1.700479</td>\n",
              "      <td>1.393001</td>\n",
              "      <td>0.581865</td>\n",
              "    </tr>\n",
              "  </tbody>\n",
              "</table>\n",
              "</div>"
            ],
            "text/plain": [
              "              A         B         C         D\n",
              "count  6.000000  6.000000  6.000000  6.000000\n",
              "mean   0.211713 -0.082329  0.226988 -0.082753\n",
              "std    1.368286  1.036829  0.925126  0.620042\n",
              "min   -1.518768 -1.205742 -1.207697 -0.928384\n",
              "25%   -0.644435 -0.786475 -0.069726 -0.514232\n",
              "50%   -0.023865 -0.033098  0.103490 -0.002343\n",
              "75%    1.282652  0.078037  0.848702  0.404075\n",
              "max    1.969910  1.700479  1.393001  0.581865"
            ]
          },
          "metadata": {},
          "execution_count": 9
        }
      ]
    },
    {
      "cell_type": "code",
      "metadata": {
        "id": "ExhpF6H8dDKo",
        "colab": {
          "base_uri": "https://localhost:8080/",
          "height": 173
        },
        "outputId": "4097b001-6e6c-455b-df33-702a4b1ee1d1"
      },
      "source": [
        "df.describe().T   # 전치 행렬"
      ],
      "execution_count": 10,
      "outputs": [
        {
          "output_type": "execute_result",
          "data": {
            "text/html": [
              "<div>\n",
              "<style scoped>\n",
              "    .dataframe tbody tr th:only-of-type {\n",
              "        vertical-align: middle;\n",
              "    }\n",
              "\n",
              "    .dataframe tbody tr th {\n",
              "        vertical-align: top;\n",
              "    }\n",
              "\n",
              "    .dataframe thead th {\n",
              "        text-align: right;\n",
              "    }\n",
              "</style>\n",
              "<table border=\"1\" class=\"dataframe\">\n",
              "  <thead>\n",
              "    <tr style=\"text-align: right;\">\n",
              "      <th></th>\n",
              "      <th>count</th>\n",
              "      <th>mean</th>\n",
              "      <th>std</th>\n",
              "      <th>min</th>\n",
              "      <th>25%</th>\n",
              "      <th>50%</th>\n",
              "      <th>75%</th>\n",
              "      <th>max</th>\n",
              "    </tr>\n",
              "  </thead>\n",
              "  <tbody>\n",
              "    <tr>\n",
              "      <th>A</th>\n",
              "      <td>6.0</td>\n",
              "      <td>0.211713</td>\n",
              "      <td>1.368286</td>\n",
              "      <td>-1.518768</td>\n",
              "      <td>-0.644435</td>\n",
              "      <td>-0.023865</td>\n",
              "      <td>1.282652</td>\n",
              "      <td>1.969910</td>\n",
              "    </tr>\n",
              "    <tr>\n",
              "      <th>B</th>\n",
              "      <td>6.0</td>\n",
              "      <td>-0.082329</td>\n",
              "      <td>1.036829</td>\n",
              "      <td>-1.205742</td>\n",
              "      <td>-0.786475</td>\n",
              "      <td>-0.033098</td>\n",
              "      <td>0.078037</td>\n",
              "      <td>1.700479</td>\n",
              "    </tr>\n",
              "    <tr>\n",
              "      <th>C</th>\n",
              "      <td>6.0</td>\n",
              "      <td>0.226988</td>\n",
              "      <td>0.925126</td>\n",
              "      <td>-1.207697</td>\n",
              "      <td>-0.069726</td>\n",
              "      <td>0.103490</td>\n",
              "      <td>0.848702</td>\n",
              "      <td>1.393001</td>\n",
              "    </tr>\n",
              "    <tr>\n",
              "      <th>D</th>\n",
              "      <td>6.0</td>\n",
              "      <td>-0.082753</td>\n",
              "      <td>0.620042</td>\n",
              "      <td>-0.928384</td>\n",
              "      <td>-0.514232</td>\n",
              "      <td>-0.002343</td>\n",
              "      <td>0.404075</td>\n",
              "      <td>0.581865</td>\n",
              "    </tr>\n",
              "  </tbody>\n",
              "</table>\n",
              "</div>"
            ],
            "text/plain": [
              "   count      mean       std       min       25%       50%       75%       max\n",
              "A    6.0  0.211713  1.368286 -1.518768 -0.644435 -0.023865  1.282652  1.969910\n",
              "B    6.0 -0.082329  1.036829 -1.205742 -0.786475 -0.033098  0.078037  1.700479\n",
              "C    6.0  0.226988  0.925126 -1.207697 -0.069726  0.103490  0.848702  1.393001\n",
              "D    6.0 -0.082753  0.620042 -0.928384 -0.514232 -0.002343  0.404075  0.581865"
            ]
          },
          "metadata": {},
          "execution_count": 10
        }
      ]
    },
    {
      "cell_type": "code",
      "metadata": {
        "colab": {
          "base_uri": "https://localhost:8080/",
          "height": 235
        },
        "id": "j9uoTIPQzXpX",
        "outputId": "b9144787-1e8c-42e9-d319-17fac5c6547f"
      },
      "source": [
        "df"
      ],
      "execution_count": 11,
      "outputs": [
        {
          "output_type": "execute_result",
          "data": {
            "text/html": [
              "<div>\n",
              "<style scoped>\n",
              "    .dataframe tbody tr th:only-of-type {\n",
              "        vertical-align: middle;\n",
              "    }\n",
              "\n",
              "    .dataframe tbody tr th {\n",
              "        vertical-align: top;\n",
              "    }\n",
              "\n",
              "    .dataframe thead th {\n",
              "        text-align: right;\n",
              "    }\n",
              "</style>\n",
              "<table border=\"1\" class=\"dataframe\">\n",
              "  <thead>\n",
              "    <tr style=\"text-align: right;\">\n",
              "      <th></th>\n",
              "      <th>A</th>\n",
              "      <th>B</th>\n",
              "      <th>C</th>\n",
              "      <th>D</th>\n",
              "    </tr>\n",
              "  </thead>\n",
              "  <tbody>\n",
              "    <tr>\n",
              "      <th>2021-09-27</th>\n",
              "      <td>-1.518768</td>\n",
              "      <td>0.104712</td>\n",
              "      <td>0.185192</td>\n",
              "      <td>-0.928384</td>\n",
              "    </tr>\n",
              "    <tr>\n",
              "      <th>2021-09-28</th>\n",
              "      <td>-0.202560</td>\n",
              "      <td>-1.205742</td>\n",
              "      <td>-1.207697</td>\n",
              "      <td>-0.372979</td>\n",
              "    </tr>\n",
              "    <tr>\n",
              "      <th>2021-09-29</th>\n",
              "      <td>0.154829</td>\n",
              "      <td>-0.001987</td>\n",
              "      <td>0.021787</td>\n",
              "      <td>0.368293</td>\n",
              "    </tr>\n",
              "    <tr>\n",
              "      <th>2021-09-30</th>\n",
              "      <td>1.969910</td>\n",
              "      <td>-1.027230</td>\n",
              "      <td>-0.100230</td>\n",
              "      <td>0.416002</td>\n",
              "    </tr>\n",
              "    <tr>\n",
              "      <th>2021-10-01</th>\n",
              "      <td>1.658594</td>\n",
              "      <td>-0.064209</td>\n",
              "      <td>1.393001</td>\n",
              "      <td>0.581865</td>\n",
              "    </tr>\n",
              "    <tr>\n",
              "      <th>2021-10-02</th>\n",
              "      <td>-0.791727</td>\n",
              "      <td>1.700479</td>\n",
              "      <td>1.069872</td>\n",
              "      <td>-0.561316</td>\n",
              "    </tr>\n",
              "  </tbody>\n",
              "</table>\n",
              "</div>"
            ],
            "text/plain": [
              "                   A         B         C         D\n",
              "2021-09-27 -1.518768  0.104712  0.185192 -0.928384\n",
              "2021-09-28 -0.202560 -1.205742 -1.207697 -0.372979\n",
              "2021-09-29  0.154829 -0.001987  0.021787  0.368293\n",
              "2021-09-30  1.969910 -1.027230 -0.100230  0.416002\n",
              "2021-10-01  1.658594 -0.064209  1.393001  0.581865\n",
              "2021-10-02 -0.791727  1.700479  1.069872 -0.561316"
            ]
          },
          "metadata": {},
          "execution_count": 11
        }
      ]
    },
    {
      "cell_type": "code",
      "metadata": {
        "id": "Br9VwFVex5rE",
        "colab": {
          "base_uri": "https://localhost:8080/",
          "height": 173
        },
        "outputId": "fac80e94-a7e3-4341-f56b-f9b546ced216"
      },
      "source": [
        "# Transposing your dataframe:\n",
        "df.T"
      ],
      "execution_count": 12,
      "outputs": [
        {
          "output_type": "execute_result",
          "data": {
            "text/html": [
              "<div>\n",
              "<style scoped>\n",
              "    .dataframe tbody tr th:only-of-type {\n",
              "        vertical-align: middle;\n",
              "    }\n",
              "\n",
              "    .dataframe tbody tr th {\n",
              "        vertical-align: top;\n",
              "    }\n",
              "\n",
              "    .dataframe thead th {\n",
              "        text-align: right;\n",
              "    }\n",
              "</style>\n",
              "<table border=\"1\" class=\"dataframe\">\n",
              "  <thead>\n",
              "    <tr style=\"text-align: right;\">\n",
              "      <th></th>\n",
              "      <th>2021-09-27</th>\n",
              "      <th>2021-09-28</th>\n",
              "      <th>2021-09-29</th>\n",
              "      <th>2021-09-30</th>\n",
              "      <th>2021-10-01</th>\n",
              "      <th>2021-10-02</th>\n",
              "    </tr>\n",
              "  </thead>\n",
              "  <tbody>\n",
              "    <tr>\n",
              "      <th>A</th>\n",
              "      <td>-1.518768</td>\n",
              "      <td>-0.202560</td>\n",
              "      <td>0.154829</td>\n",
              "      <td>1.969910</td>\n",
              "      <td>1.658594</td>\n",
              "      <td>-0.791727</td>\n",
              "    </tr>\n",
              "    <tr>\n",
              "      <th>B</th>\n",
              "      <td>0.104712</td>\n",
              "      <td>-1.205742</td>\n",
              "      <td>-0.001987</td>\n",
              "      <td>-1.027230</td>\n",
              "      <td>-0.064209</td>\n",
              "      <td>1.700479</td>\n",
              "    </tr>\n",
              "    <tr>\n",
              "      <th>C</th>\n",
              "      <td>0.185192</td>\n",
              "      <td>-1.207697</td>\n",
              "      <td>0.021787</td>\n",
              "      <td>-0.100230</td>\n",
              "      <td>1.393001</td>\n",
              "      <td>1.069872</td>\n",
              "    </tr>\n",
              "    <tr>\n",
              "      <th>D</th>\n",
              "      <td>-0.928384</td>\n",
              "      <td>-0.372979</td>\n",
              "      <td>0.368293</td>\n",
              "      <td>0.416002</td>\n",
              "      <td>0.581865</td>\n",
              "      <td>-0.561316</td>\n",
              "    </tr>\n",
              "  </tbody>\n",
              "</table>\n",
              "</div>"
            ],
            "text/plain": [
              "   2021-09-27  2021-09-28  2021-09-29  2021-09-30  2021-10-01  2021-10-02\n",
              "A   -1.518768   -0.202560    0.154829    1.969910    1.658594   -0.791727\n",
              "B    0.104712   -1.205742   -0.001987   -1.027230   -0.064209    1.700479\n",
              "C    0.185192   -1.207697    0.021787   -0.100230    1.393001    1.069872\n",
              "D   -0.928384   -0.372979    0.368293    0.416002    0.581865   -0.561316"
            ]
          },
          "metadata": {},
          "execution_count": 12
        }
      ]
    },
    {
      "cell_type": "code",
      "metadata": {
        "id": "vkg1gQUVLoy9",
        "colab": {
          "base_uri": "https://localhost:8080/"
        },
        "outputId": "584d2416-15bd-499b-b136-ed448d2b689d"
      },
      "source": [
        "df.T.index"
      ],
      "execution_count": 13,
      "outputs": [
        {
          "output_type": "execute_result",
          "data": {
            "text/plain": [
              "Index(['A', 'B', 'C', 'D'], dtype='object')"
            ]
          },
          "metadata": {},
          "execution_count": 13
        }
      ]
    },
    {
      "cell_type": "markdown",
      "metadata": {
        "id": "A4lHGd4px5rU"
      },
      "source": [
        "### Sorting"
      ]
    },
    {
      "cell_type": "markdown",
      "metadata": {
        "id": "jlXuIbzD6oUD"
      },
      "source": [
        "#### Sort by index\n",
        "- sort_index(axis=0, ascending=False)\n",
        "- sort_index(axis=1, ascending=False)\n",
        "\n",
        "> Axis=0 Column-Wise Operation (수직으로)\n",
        "\n",
        "> Axis=1 Row-Wise Operation (수평으로)"
      ]
    },
    {
      "cell_type": "code",
      "metadata": {
        "id": "RM9Rlk64x5rW",
        "colab": {
          "base_uri": "https://localhost:8080/"
        },
        "outputId": "7b63dd5b-2916-4df4-b6f4-bca5b5cd87ee"
      },
      "source": [
        "# Sorting by an axis:\n",
        "df, df.sort_index(axis=0, ascending=False)  # ascending=True : default"
      ],
      "execution_count": 14,
      "outputs": [
        {
          "output_type": "execute_result",
          "data": {
            "text/plain": [
              "(                   A         B         C         D\n",
              " 2021-09-27 -1.518768  0.104712  0.185192 -0.928384\n",
              " 2021-09-28 -0.202560 -1.205742 -1.207697 -0.372979\n",
              " 2021-09-29  0.154829 -0.001987  0.021787  0.368293\n",
              " 2021-09-30  1.969910 -1.027230 -0.100230  0.416002\n",
              " 2021-10-01  1.658594 -0.064209  1.393001  0.581865\n",
              " 2021-10-02 -0.791727  1.700479  1.069872 -0.561316,\n",
              "                    A         B         C         D\n",
              " 2021-10-02 -0.791727  1.700479  1.069872 -0.561316\n",
              " 2021-10-01  1.658594 -0.064209  1.393001  0.581865\n",
              " 2021-09-30  1.969910 -1.027230 -0.100230  0.416002\n",
              " 2021-09-29  0.154829 -0.001987  0.021787  0.368293\n",
              " 2021-09-28 -0.202560 -1.205742 -1.207697 -0.372979\n",
              " 2021-09-27 -1.518768  0.104712  0.185192 -0.928384)"
            ]
          },
          "metadata": {},
          "execution_count": 14
        }
      ]
    },
    {
      "cell_type": "code",
      "metadata": {
        "id": "w_7d__Hsx5rb",
        "colab": {
          "base_uri": "https://localhost:8080/"
        },
        "outputId": "69502841-0701-46f7-913f-942df13a2125"
      },
      "source": [
        "df,df.sort_index(axis=1, ascending=False) # axis=1 -> 열에 대한 정렬"
      ],
      "execution_count": 15,
      "outputs": [
        {
          "output_type": "execute_result",
          "data": {
            "text/plain": [
              "(                   A         B         C         D\n",
              " 2021-09-27 -1.518768  0.104712  0.185192 -0.928384\n",
              " 2021-09-28 -0.202560 -1.205742 -1.207697 -0.372979\n",
              " 2021-09-29  0.154829 -0.001987  0.021787  0.368293\n",
              " 2021-09-30  1.969910 -1.027230 -0.100230  0.416002\n",
              " 2021-10-01  1.658594 -0.064209  1.393001  0.581865\n",
              " 2021-10-02 -0.791727  1.700479  1.069872 -0.561316,\n",
              "                    D         C         B         A\n",
              " 2021-09-27 -0.928384  0.185192  0.104712 -1.518768\n",
              " 2021-09-28 -0.372979 -1.207697 -1.205742 -0.202560\n",
              " 2021-09-29  0.368293  0.021787 -0.001987  0.154829\n",
              " 2021-09-30  0.416002 -0.100230 -1.027230  1.969910\n",
              " 2021-10-01  0.581865  1.393001 -0.064209  1.658594\n",
              " 2021-10-02 -0.561316  1.069872  1.700479 -0.791727)"
            ]
          },
          "metadata": {},
          "execution_count": 15
        }
      ]
    },
    {
      "cell_type": "markdown",
      "metadata": {
        "id": "8J59I-KW6yNK"
      },
      "source": [
        "#### Sort by value\n",
        "- sort_values(by='column')"
      ]
    },
    {
      "cell_type": "code",
      "metadata": {
        "id": "VJw7_sTLx5rg",
        "colab": {
          "base_uri": "https://localhost:8080/"
        },
        "outputId": "4488b859-bfbe-4187-ad8a-aef80178f5c7"
      },
      "source": [
        "# Sorting by values:\n",
        "df,df.sort_values(by='B') #, ascending=False) # by='B' -> B열에 대한 재정렬"
      ],
      "execution_count": 16,
      "outputs": [
        {
          "output_type": "execute_result",
          "data": {
            "text/plain": [
              "(                   A         B         C         D\n",
              " 2021-09-27 -1.518768  0.104712  0.185192 -0.928384\n",
              " 2021-09-28 -0.202560 -1.205742 -1.207697 -0.372979\n",
              " 2021-09-29  0.154829 -0.001987  0.021787  0.368293\n",
              " 2021-09-30  1.969910 -1.027230 -0.100230  0.416002\n",
              " 2021-10-01  1.658594 -0.064209  1.393001  0.581865\n",
              " 2021-10-02 -0.791727  1.700479  1.069872 -0.561316,\n",
              "                    A         B         C         D\n",
              " 2021-09-28 -0.202560 -1.205742 -1.207697 -0.372979\n",
              " 2021-09-30  1.969910 -1.027230 -0.100230  0.416002\n",
              " 2021-10-01  1.658594 -0.064209  1.393001  0.581865\n",
              " 2021-09-29  0.154829 -0.001987  0.021787  0.368293\n",
              " 2021-09-27 -1.518768  0.104712  0.185192 -0.928384\n",
              " 2021-10-02 -0.791727  1.700479  1.069872 -0.561316)"
            ]
          },
          "metadata": {},
          "execution_count": 16
        }
      ]
    },
    {
      "cell_type": "markdown",
      "metadata": {
        "id": "rBW0-saPPGbN"
      },
      "source": [
        "## indexing and slicing of DataFrame"
      ]
    },
    {
      "cell_type": "markdown",
      "metadata": {
        "id": "oH89Wa-ix5rq"
      },
      "source": [
        "#### Selecting data by indexing and slicing\n",
        "- indexing\n",
        "- slicing\n"
      ]
    },
    {
      "cell_type": "code",
      "metadata": {
        "id": "YufIBMYzx5ru",
        "colab": {
          "base_uri": "https://localhost:8080/"
        },
        "outputId": "f25fa56d-5357-4252-ecc3-805f44d0d5fc"
      },
      "source": [
        "# Selecting a single column, which yields a Series\n",
        "df['A'] # A열 인덱스와 데이터 값"
      ],
      "execution_count": 17,
      "outputs": [
        {
          "output_type": "execute_result",
          "data": {
            "text/plain": [
              "2021-09-27   -1.518768\n",
              "2021-09-28   -0.202560\n",
              "2021-09-29    0.154829\n",
              "2021-09-30    1.969910\n",
              "2021-10-01    1.658594\n",
              "2021-10-02   -0.791727\n",
              "Freq: D, Name: A, dtype: float64"
            ]
          },
          "metadata": {},
          "execution_count": 17
        }
      ]
    },
    {
      "cell_type": "code",
      "metadata": {
        "id": "ijxuNMS5x5r3",
        "colab": {
          "base_uri": "https://localhost:8080/",
          "height": 142
        },
        "outputId": "2ea1b2b1-40b5-4ff3-e83b-a5ac58895464"
      },
      "source": [
        "# Selecting via [], which slices the rows.\n",
        "df[0:3]"
      ],
      "execution_count": 18,
      "outputs": [
        {
          "output_type": "execute_result",
          "data": {
            "text/html": [
              "<div>\n",
              "<style scoped>\n",
              "    .dataframe tbody tr th:only-of-type {\n",
              "        vertical-align: middle;\n",
              "    }\n",
              "\n",
              "    .dataframe tbody tr th {\n",
              "        vertical-align: top;\n",
              "    }\n",
              "\n",
              "    .dataframe thead th {\n",
              "        text-align: right;\n",
              "    }\n",
              "</style>\n",
              "<table border=\"1\" class=\"dataframe\">\n",
              "  <thead>\n",
              "    <tr style=\"text-align: right;\">\n",
              "      <th></th>\n",
              "      <th>A</th>\n",
              "      <th>B</th>\n",
              "      <th>C</th>\n",
              "      <th>D</th>\n",
              "    </tr>\n",
              "  </thead>\n",
              "  <tbody>\n",
              "    <tr>\n",
              "      <th>2021-09-27</th>\n",
              "      <td>-1.518768</td>\n",
              "      <td>0.104712</td>\n",
              "      <td>0.185192</td>\n",
              "      <td>-0.928384</td>\n",
              "    </tr>\n",
              "    <tr>\n",
              "      <th>2021-09-28</th>\n",
              "      <td>-0.202560</td>\n",
              "      <td>-1.205742</td>\n",
              "      <td>-1.207697</td>\n",
              "      <td>-0.372979</td>\n",
              "    </tr>\n",
              "    <tr>\n",
              "      <th>2021-09-29</th>\n",
              "      <td>0.154829</td>\n",
              "      <td>-0.001987</td>\n",
              "      <td>0.021787</td>\n",
              "      <td>0.368293</td>\n",
              "    </tr>\n",
              "  </tbody>\n",
              "</table>\n",
              "</div>"
            ],
            "text/plain": [
              "                   A         B         C         D\n",
              "2021-09-27 -1.518768  0.104712  0.185192 -0.928384\n",
              "2021-09-28 -0.202560 -1.205742 -1.207697 -0.372979\n",
              "2021-09-29  0.154829 -0.001987  0.021787  0.368293"
            ]
          },
          "metadata": {},
          "execution_count": 18
        }
      ]
    },
    {
      "cell_type": "code",
      "metadata": {
        "id": "T8XP7m9nx5r9",
        "colab": {
          "base_uri": "https://localhost:8080/",
          "height": 49
        },
        "outputId": "a8f46c58-0b34-43af-ceef-7ea3b6dbcb81"
      },
      "source": [
        "df['20200928':'20201001'] # 인덱스가 아닌 값인 경우는 지정된 범위가 다 선택된다."
      ],
      "execution_count": 19,
      "outputs": [
        {
          "output_type": "execute_result",
          "data": {
            "text/html": [
              "<div>\n",
              "<style scoped>\n",
              "    .dataframe tbody tr th:only-of-type {\n",
              "        vertical-align: middle;\n",
              "    }\n",
              "\n",
              "    .dataframe tbody tr th {\n",
              "        vertical-align: top;\n",
              "    }\n",
              "\n",
              "    .dataframe thead th {\n",
              "        text-align: right;\n",
              "    }\n",
              "</style>\n",
              "<table border=\"1\" class=\"dataframe\">\n",
              "  <thead>\n",
              "    <tr style=\"text-align: right;\">\n",
              "      <th></th>\n",
              "      <th>A</th>\n",
              "      <th>B</th>\n",
              "      <th>C</th>\n",
              "      <th>D</th>\n",
              "    </tr>\n",
              "  </thead>\n",
              "  <tbody>\n",
              "  </tbody>\n",
              "</table>\n",
              "</div>"
            ],
            "text/plain": [
              "Empty DataFrame\n",
              "Columns: [A, B, C, D]\n",
              "Index: []"
            ]
          },
          "metadata": {},
          "execution_count": 19
        }
      ]
    },
    {
      "cell_type": "code",
      "metadata": {
        "colab": {
          "base_uri": "https://localhost:8080/",
          "height": 204
        },
        "id": "n0-S-BRu3nNN",
        "outputId": "d121844e-2070-410b-9e90-4467b45e8b87"
      },
      "source": [
        "df['20210927':'20211001'] # 숫자 인덱스가 아닌, 값을 이용한 슬라이싱은 마지막 범위도 포함된다."
      ],
      "execution_count": 20,
      "outputs": [
        {
          "output_type": "execute_result",
          "data": {
            "text/html": [
              "<div>\n",
              "<style scoped>\n",
              "    .dataframe tbody tr th:only-of-type {\n",
              "        vertical-align: middle;\n",
              "    }\n",
              "\n",
              "    .dataframe tbody tr th {\n",
              "        vertical-align: top;\n",
              "    }\n",
              "\n",
              "    .dataframe thead th {\n",
              "        text-align: right;\n",
              "    }\n",
              "</style>\n",
              "<table border=\"1\" class=\"dataframe\">\n",
              "  <thead>\n",
              "    <tr style=\"text-align: right;\">\n",
              "      <th></th>\n",
              "      <th>A</th>\n",
              "      <th>B</th>\n",
              "      <th>C</th>\n",
              "      <th>D</th>\n",
              "    </tr>\n",
              "  </thead>\n",
              "  <tbody>\n",
              "    <tr>\n",
              "      <th>2021-09-27</th>\n",
              "      <td>-1.518768</td>\n",
              "      <td>0.104712</td>\n",
              "      <td>0.185192</td>\n",
              "      <td>-0.928384</td>\n",
              "    </tr>\n",
              "    <tr>\n",
              "      <th>2021-09-28</th>\n",
              "      <td>-0.202560</td>\n",
              "      <td>-1.205742</td>\n",
              "      <td>-1.207697</td>\n",
              "      <td>-0.372979</td>\n",
              "    </tr>\n",
              "    <tr>\n",
              "      <th>2021-09-29</th>\n",
              "      <td>0.154829</td>\n",
              "      <td>-0.001987</td>\n",
              "      <td>0.021787</td>\n",
              "      <td>0.368293</td>\n",
              "    </tr>\n",
              "    <tr>\n",
              "      <th>2021-09-30</th>\n",
              "      <td>1.969910</td>\n",
              "      <td>-1.027230</td>\n",
              "      <td>-0.100230</td>\n",
              "      <td>0.416002</td>\n",
              "    </tr>\n",
              "    <tr>\n",
              "      <th>2021-10-01</th>\n",
              "      <td>1.658594</td>\n",
              "      <td>-0.064209</td>\n",
              "      <td>1.393001</td>\n",
              "      <td>0.581865</td>\n",
              "    </tr>\n",
              "  </tbody>\n",
              "</table>\n",
              "</div>"
            ],
            "text/plain": [
              "                   A         B         C         D\n",
              "2021-09-27 -1.518768  0.104712  0.185192 -0.928384\n",
              "2021-09-28 -0.202560 -1.205742 -1.207697 -0.372979\n",
              "2021-09-29  0.154829 -0.001987  0.021787  0.368293\n",
              "2021-09-30  1.969910 -1.027230 -0.100230  0.416002\n",
              "2021-10-01  1.658594 -0.064209  1.393001  0.581865"
            ]
          },
          "metadata": {},
          "execution_count": 20
        }
      ]
    },
    {
      "cell_type": "markdown",
      "metadata": {
        "id": "E7-V96t9x5sB"
      },
      "source": [
        "#### Selecting data by label [중요!!]\n",
        "\n",
        "> **loc, iloc**\n",
        "\n"
      ]
    },
    {
      "cell_type": "code",
      "metadata": {
        "id": "TV4dnwU-x5sC",
        "colab": {
          "base_uri": "https://localhost:8080/",
          "height": 235
        },
        "outputId": "352dc7e4-93ce-49ac-9c38-7146de27c99e"
      },
      "source": [
        "df"
      ],
      "execution_count": 21,
      "outputs": [
        {
          "output_type": "execute_result",
          "data": {
            "text/html": [
              "<div>\n",
              "<style scoped>\n",
              "    .dataframe tbody tr th:only-of-type {\n",
              "        vertical-align: middle;\n",
              "    }\n",
              "\n",
              "    .dataframe tbody tr th {\n",
              "        vertical-align: top;\n",
              "    }\n",
              "\n",
              "    .dataframe thead th {\n",
              "        text-align: right;\n",
              "    }\n",
              "</style>\n",
              "<table border=\"1\" class=\"dataframe\">\n",
              "  <thead>\n",
              "    <tr style=\"text-align: right;\">\n",
              "      <th></th>\n",
              "      <th>A</th>\n",
              "      <th>B</th>\n",
              "      <th>C</th>\n",
              "      <th>D</th>\n",
              "    </tr>\n",
              "  </thead>\n",
              "  <tbody>\n",
              "    <tr>\n",
              "      <th>2021-09-27</th>\n",
              "      <td>-1.518768</td>\n",
              "      <td>0.104712</td>\n",
              "      <td>0.185192</td>\n",
              "      <td>-0.928384</td>\n",
              "    </tr>\n",
              "    <tr>\n",
              "      <th>2021-09-28</th>\n",
              "      <td>-0.202560</td>\n",
              "      <td>-1.205742</td>\n",
              "      <td>-1.207697</td>\n",
              "      <td>-0.372979</td>\n",
              "    </tr>\n",
              "    <tr>\n",
              "      <th>2021-09-29</th>\n",
              "      <td>0.154829</td>\n",
              "      <td>-0.001987</td>\n",
              "      <td>0.021787</td>\n",
              "      <td>0.368293</td>\n",
              "    </tr>\n",
              "    <tr>\n",
              "      <th>2021-09-30</th>\n",
              "      <td>1.969910</td>\n",
              "      <td>-1.027230</td>\n",
              "      <td>-0.100230</td>\n",
              "      <td>0.416002</td>\n",
              "    </tr>\n",
              "    <tr>\n",
              "      <th>2021-10-01</th>\n",
              "      <td>1.658594</td>\n",
              "      <td>-0.064209</td>\n",
              "      <td>1.393001</td>\n",
              "      <td>0.581865</td>\n",
              "    </tr>\n",
              "    <tr>\n",
              "      <th>2021-10-02</th>\n",
              "      <td>-0.791727</td>\n",
              "      <td>1.700479</td>\n",
              "      <td>1.069872</td>\n",
              "      <td>-0.561316</td>\n",
              "    </tr>\n",
              "  </tbody>\n",
              "</table>\n",
              "</div>"
            ],
            "text/plain": [
              "                   A         B         C         D\n",
              "2021-09-27 -1.518768  0.104712  0.185192 -0.928384\n",
              "2021-09-28 -0.202560 -1.205742 -1.207697 -0.372979\n",
              "2021-09-29  0.154829 -0.001987  0.021787  0.368293\n",
              "2021-09-30  1.969910 -1.027230 -0.100230  0.416002\n",
              "2021-10-01  1.658594 -0.064209  1.393001  0.581865\n",
              "2021-10-02 -0.791727  1.700479  1.069872 -0.561316"
            ]
          },
          "metadata": {},
          "execution_count": 21
        }
      ]
    },
    {
      "cell_type": "code",
      "metadata": {
        "colab": {
          "base_uri": "https://localhost:8080/"
        },
        "id": "uAuiAA6p4BUM",
        "outputId": "32cd0c03-f0d2-44d4-fbca-befb8afc5af7"
      },
      "source": [
        "dates[0]"
      ],
      "execution_count": 22,
      "outputs": [
        {
          "output_type": "execute_result",
          "data": {
            "text/plain": [
              "Timestamp('2021-09-27 00:00:00', freq='D')"
            ]
          },
          "metadata": {},
          "execution_count": 22
        }
      ]
    },
    {
      "cell_type": "code",
      "metadata": {
        "id": "iPZE3U5cx5sG",
        "colab": {
          "base_uri": "https://localhost:8080/"
        },
        "outputId": "e97d6ca6-a211-4f1b-bdad-75ba02e13998"
      },
      "source": [
        "df.loc[dates[0]]   # loc()"
      ],
      "execution_count": 23,
      "outputs": [
        {
          "output_type": "execute_result",
          "data": {
            "text/plain": [
              "A   -1.518768\n",
              "B    0.104712\n",
              "C    0.185192\n",
              "D   -0.928384\n",
              "Name: 2021-09-27 00:00:00, dtype: float64"
            ]
          },
          "metadata": {},
          "execution_count": 23
        }
      ]
    },
    {
      "cell_type": "code",
      "metadata": {
        "id": "jteYZDQnx5sL",
        "colab": {
          "base_uri": "https://localhost:8080/",
          "height": 235
        },
        "outputId": "83a7fe6c-0768-445d-b5b5-a6b46bc5ccde"
      },
      "source": [
        "# Selecting on a multi-axis by label:\n",
        "df.loc[:,['A','B']]"
      ],
      "execution_count": 24,
      "outputs": [
        {
          "output_type": "execute_result",
          "data": {
            "text/html": [
              "<div>\n",
              "<style scoped>\n",
              "    .dataframe tbody tr th:only-of-type {\n",
              "        vertical-align: middle;\n",
              "    }\n",
              "\n",
              "    .dataframe tbody tr th {\n",
              "        vertical-align: top;\n",
              "    }\n",
              "\n",
              "    .dataframe thead th {\n",
              "        text-align: right;\n",
              "    }\n",
              "</style>\n",
              "<table border=\"1\" class=\"dataframe\">\n",
              "  <thead>\n",
              "    <tr style=\"text-align: right;\">\n",
              "      <th></th>\n",
              "      <th>A</th>\n",
              "      <th>B</th>\n",
              "    </tr>\n",
              "  </thead>\n",
              "  <tbody>\n",
              "    <tr>\n",
              "      <th>2021-09-27</th>\n",
              "      <td>-1.518768</td>\n",
              "      <td>0.104712</td>\n",
              "    </tr>\n",
              "    <tr>\n",
              "      <th>2021-09-28</th>\n",
              "      <td>-0.202560</td>\n",
              "      <td>-1.205742</td>\n",
              "    </tr>\n",
              "    <tr>\n",
              "      <th>2021-09-29</th>\n",
              "      <td>0.154829</td>\n",
              "      <td>-0.001987</td>\n",
              "    </tr>\n",
              "    <tr>\n",
              "      <th>2021-09-30</th>\n",
              "      <td>1.969910</td>\n",
              "      <td>-1.027230</td>\n",
              "    </tr>\n",
              "    <tr>\n",
              "      <th>2021-10-01</th>\n",
              "      <td>1.658594</td>\n",
              "      <td>-0.064209</td>\n",
              "    </tr>\n",
              "    <tr>\n",
              "      <th>2021-10-02</th>\n",
              "      <td>-0.791727</td>\n",
              "      <td>1.700479</td>\n",
              "    </tr>\n",
              "  </tbody>\n",
              "</table>\n",
              "</div>"
            ],
            "text/plain": [
              "                   A         B\n",
              "2021-09-27 -1.518768  0.104712\n",
              "2021-09-28 -0.202560 -1.205742\n",
              "2021-09-29  0.154829 -0.001987\n",
              "2021-09-30  1.969910 -1.027230\n",
              "2021-10-01  1.658594 -0.064209\n",
              "2021-10-02 -0.791727  1.700479"
            ]
          },
          "metadata": {},
          "execution_count": 24
        }
      ]
    },
    {
      "cell_type": "markdown",
      "metadata": {
        "id": "QqYJvRLnx5sP"
      },
      "source": [
        "#### [DIY: 도전코딩]\n",
        "\n",
        "> Select data for first two days AND column 3,4 from df using loc[]."
      ]
    },
    {
      "cell_type": "code",
      "metadata": {
        "id": "jSUlF4icx5sQ",
        "colab": {
          "base_uri": "https://localhost:8080/",
          "height": 111
        },
        "outputId": "9e095d22-203f-4b15-b848-4fc6b60e9d4c"
      },
      "source": [
        "# df.loc[0:2,['C','D']] # ㅣoc()에는 정수 인덱스 사용 x -> TypeError: cannot do slice indexing on DatetimeIndex with these indexers [0] of type int\n",
        "# df.loc['20210927':'20210928',['C','D']]\n",
        "df.loc[dates[:2],['C','D']]"
      ],
      "execution_count": 25,
      "outputs": [
        {
          "output_type": "execute_result",
          "data": {
            "text/html": [
              "<div>\n",
              "<style scoped>\n",
              "    .dataframe tbody tr th:only-of-type {\n",
              "        vertical-align: middle;\n",
              "    }\n",
              "\n",
              "    .dataframe tbody tr th {\n",
              "        vertical-align: top;\n",
              "    }\n",
              "\n",
              "    .dataframe thead th {\n",
              "        text-align: right;\n",
              "    }\n",
              "</style>\n",
              "<table border=\"1\" class=\"dataframe\">\n",
              "  <thead>\n",
              "    <tr style=\"text-align: right;\">\n",
              "      <th></th>\n",
              "      <th>C</th>\n",
              "      <th>D</th>\n",
              "    </tr>\n",
              "  </thead>\n",
              "  <tbody>\n",
              "    <tr>\n",
              "      <th>2021-09-27</th>\n",
              "      <td>0.185192</td>\n",
              "      <td>-0.928384</td>\n",
              "    </tr>\n",
              "    <tr>\n",
              "      <th>2021-09-28</th>\n",
              "      <td>-1.207697</td>\n",
              "      <td>-0.372979</td>\n",
              "    </tr>\n",
              "  </tbody>\n",
              "</table>\n",
              "</div>"
            ],
            "text/plain": [
              "                   C         D\n",
              "2021-09-27  0.185192 -0.928384\n",
              "2021-09-28 -1.207697 -0.372979"
            ]
          },
          "metadata": {},
          "execution_count": 25
        }
      ]
    },
    {
      "cell_type": "markdown",
      "metadata": {
        "id": "-BGWuIwpx5sV"
      },
      "source": [
        "#### Selecting data by position (iloc())\n",
        "- index 사용"
      ]
    },
    {
      "cell_type": "code",
      "metadata": {
        "id": "gYtgID9rx5sW",
        "colab": {
          "base_uri": "https://localhost:8080/",
          "height": 235
        },
        "outputId": "c3a674c2-11cf-4a48-9735-a93bdfdbd247"
      },
      "source": [
        "df"
      ],
      "execution_count": 26,
      "outputs": [
        {
          "output_type": "execute_result",
          "data": {
            "text/html": [
              "<div>\n",
              "<style scoped>\n",
              "    .dataframe tbody tr th:only-of-type {\n",
              "        vertical-align: middle;\n",
              "    }\n",
              "\n",
              "    .dataframe tbody tr th {\n",
              "        vertical-align: top;\n",
              "    }\n",
              "\n",
              "    .dataframe thead th {\n",
              "        text-align: right;\n",
              "    }\n",
              "</style>\n",
              "<table border=\"1\" class=\"dataframe\">\n",
              "  <thead>\n",
              "    <tr style=\"text-align: right;\">\n",
              "      <th></th>\n",
              "      <th>A</th>\n",
              "      <th>B</th>\n",
              "      <th>C</th>\n",
              "      <th>D</th>\n",
              "    </tr>\n",
              "  </thead>\n",
              "  <tbody>\n",
              "    <tr>\n",
              "      <th>2021-09-27</th>\n",
              "      <td>-1.518768</td>\n",
              "      <td>0.104712</td>\n",
              "      <td>0.185192</td>\n",
              "      <td>-0.928384</td>\n",
              "    </tr>\n",
              "    <tr>\n",
              "      <th>2021-09-28</th>\n",
              "      <td>-0.202560</td>\n",
              "      <td>-1.205742</td>\n",
              "      <td>-1.207697</td>\n",
              "      <td>-0.372979</td>\n",
              "    </tr>\n",
              "    <tr>\n",
              "      <th>2021-09-29</th>\n",
              "      <td>0.154829</td>\n",
              "      <td>-0.001987</td>\n",
              "      <td>0.021787</td>\n",
              "      <td>0.368293</td>\n",
              "    </tr>\n",
              "    <tr>\n",
              "      <th>2021-09-30</th>\n",
              "      <td>1.969910</td>\n",
              "      <td>-1.027230</td>\n",
              "      <td>-0.100230</td>\n",
              "      <td>0.416002</td>\n",
              "    </tr>\n",
              "    <tr>\n",
              "      <th>2021-10-01</th>\n",
              "      <td>1.658594</td>\n",
              "      <td>-0.064209</td>\n",
              "      <td>1.393001</td>\n",
              "      <td>0.581865</td>\n",
              "    </tr>\n",
              "    <tr>\n",
              "      <th>2021-10-02</th>\n",
              "      <td>-0.791727</td>\n",
              "      <td>1.700479</td>\n",
              "      <td>1.069872</td>\n",
              "      <td>-0.561316</td>\n",
              "    </tr>\n",
              "  </tbody>\n",
              "</table>\n",
              "</div>"
            ],
            "text/plain": [
              "                   A         B         C         D\n",
              "2021-09-27 -1.518768  0.104712  0.185192 -0.928384\n",
              "2021-09-28 -0.202560 -1.205742 -1.207697 -0.372979\n",
              "2021-09-29  0.154829 -0.001987  0.021787  0.368293\n",
              "2021-09-30  1.969910 -1.027230 -0.100230  0.416002\n",
              "2021-10-01  1.658594 -0.064209  1.393001  0.581865\n",
              "2021-10-02 -0.791727  1.700479  1.069872 -0.561316"
            ]
          },
          "metadata": {},
          "execution_count": 26
        }
      ]
    },
    {
      "cell_type": "code",
      "metadata": {
        "id": "PNgZ3u8-x5sa",
        "colab": {
          "base_uri": "https://localhost:8080/"
        },
        "outputId": "e435bd9a-79cb-4289-86d3-4254a65ab80b"
      },
      "source": [
        "df.iloc[3]  # 결과는 차원축소형으로 표현됨."
      ],
      "execution_count": 27,
      "outputs": [
        {
          "output_type": "execute_result",
          "data": {
            "text/plain": [
              "A    1.969910\n",
              "B   -1.027230\n",
              "C   -0.100230\n",
              "D    0.416002\n",
              "Name: 2021-09-30 00:00:00, dtype: float64"
            ]
          },
          "metadata": {},
          "execution_count": 27
        }
      ]
    },
    {
      "cell_type": "code",
      "metadata": {
        "id": "12eWuxQ_x5sh",
        "colab": {
          "base_uri": "https://localhost:8080/",
          "height": 111
        },
        "outputId": "e59c8c4c-b53d-4061-d97c-eeab522b7b00"
      },
      "source": [
        "# [다시 도전]\n",
        "# Select data for first two days AND comumn 3,4 from df.\n",
        "# Use iloc\n",
        "df.iloc[:2,2:4]"
      ],
      "execution_count": 28,
      "outputs": [
        {
          "output_type": "execute_result",
          "data": {
            "text/html": [
              "<div>\n",
              "<style scoped>\n",
              "    .dataframe tbody tr th:only-of-type {\n",
              "        vertical-align: middle;\n",
              "    }\n",
              "\n",
              "    .dataframe tbody tr th {\n",
              "        vertical-align: top;\n",
              "    }\n",
              "\n",
              "    .dataframe thead th {\n",
              "        text-align: right;\n",
              "    }\n",
              "</style>\n",
              "<table border=\"1\" class=\"dataframe\">\n",
              "  <thead>\n",
              "    <tr style=\"text-align: right;\">\n",
              "      <th></th>\n",
              "      <th>C</th>\n",
              "      <th>D</th>\n",
              "    </tr>\n",
              "  </thead>\n",
              "  <tbody>\n",
              "    <tr>\n",
              "      <th>2021-09-27</th>\n",
              "      <td>0.185192</td>\n",
              "      <td>-0.928384</td>\n",
              "    </tr>\n",
              "    <tr>\n",
              "      <th>2021-09-28</th>\n",
              "      <td>-1.207697</td>\n",
              "      <td>-0.372979</td>\n",
              "    </tr>\n",
              "  </tbody>\n",
              "</table>\n",
              "</div>"
            ],
            "text/plain": [
              "                   C         D\n",
              "2021-09-27  0.185192 -0.928384\n",
              "2021-09-28 -1.207697 -0.372979"
            ]
          },
          "metadata": {},
          "execution_count": 28
        }
      ]
    },
    {
      "cell_type": "code",
      "metadata": {
        "id": "_S-omW3hx5sn",
        "colab": {
          "base_uri": "https://localhost:8080/"
        },
        "outputId": "6f8fd108-2be0-41c6-ea8d-7b59bf21c16c"
      },
      "source": [
        "# Select one item\n",
        "df.iloc[1,1]"
      ],
      "execution_count": 29,
      "outputs": [
        {
          "output_type": "execute_result",
          "data": {
            "text/plain": [
              "-1.205742075093979"
            ]
          },
          "metadata": {},
          "execution_count": 29
        }
      ]
    },
    {
      "cell_type": "code",
      "metadata": {
        "id": "fjAsIAidfVUQ",
        "colab": {
          "base_uri": "https://localhost:8080/",
          "height": 142
        },
        "outputId": "20fd0423-7904-49b9-d0c5-6368a28828b8"
      },
      "source": [
        "# [DIY: 다시 도전]\n",
        "# Select data for first three days from df\n",
        "# Your code\n",
        "df.iloc[:3,:] # range index -> iloc"
      ],
      "execution_count": 30,
      "outputs": [
        {
          "output_type": "execute_result",
          "data": {
            "text/html": [
              "<div>\n",
              "<style scoped>\n",
              "    .dataframe tbody tr th:only-of-type {\n",
              "        vertical-align: middle;\n",
              "    }\n",
              "\n",
              "    .dataframe tbody tr th {\n",
              "        vertical-align: top;\n",
              "    }\n",
              "\n",
              "    .dataframe thead th {\n",
              "        text-align: right;\n",
              "    }\n",
              "</style>\n",
              "<table border=\"1\" class=\"dataframe\">\n",
              "  <thead>\n",
              "    <tr style=\"text-align: right;\">\n",
              "      <th></th>\n",
              "      <th>A</th>\n",
              "      <th>B</th>\n",
              "      <th>C</th>\n",
              "      <th>D</th>\n",
              "    </tr>\n",
              "  </thead>\n",
              "  <tbody>\n",
              "    <tr>\n",
              "      <th>2021-09-27</th>\n",
              "      <td>-1.518768</td>\n",
              "      <td>0.104712</td>\n",
              "      <td>0.185192</td>\n",
              "      <td>-0.928384</td>\n",
              "    </tr>\n",
              "    <tr>\n",
              "      <th>2021-09-28</th>\n",
              "      <td>-0.202560</td>\n",
              "      <td>-1.205742</td>\n",
              "      <td>-1.207697</td>\n",
              "      <td>-0.372979</td>\n",
              "    </tr>\n",
              "    <tr>\n",
              "      <th>2021-09-29</th>\n",
              "      <td>0.154829</td>\n",
              "      <td>-0.001987</td>\n",
              "      <td>0.021787</td>\n",
              "      <td>0.368293</td>\n",
              "    </tr>\n",
              "  </tbody>\n",
              "</table>\n",
              "</div>"
            ],
            "text/plain": [
              "                   A         B         C         D\n",
              "2021-09-27 -1.518768  0.104712  0.185192 -0.928384\n",
              "2021-09-28 -0.202560 -1.205742 -1.207697 -0.372979\n",
              "2021-09-29  0.154829 -0.001987  0.021787  0.368293"
            ]
          },
          "metadata": {},
          "execution_count": 30
        }
      ]
    },
    {
      "cell_type": "markdown",
      "metadata": {
        "id": "fDoWVVGHx5su"
      },
      "source": [
        "#### Selecting data by Boolean indexing"
      ]
    },
    {
      "cell_type": "code",
      "metadata": {
        "id": "CG7LipUrx5sv",
        "colab": {
          "base_uri": "https://localhost:8080/",
          "height": 235
        },
        "outputId": "b380e4b6-7be1-4c4d-d944-fc047b77556c"
      },
      "source": [
        "df"
      ],
      "execution_count": 31,
      "outputs": [
        {
          "output_type": "execute_result",
          "data": {
            "text/html": [
              "<div>\n",
              "<style scoped>\n",
              "    .dataframe tbody tr th:only-of-type {\n",
              "        vertical-align: middle;\n",
              "    }\n",
              "\n",
              "    .dataframe tbody tr th {\n",
              "        vertical-align: top;\n",
              "    }\n",
              "\n",
              "    .dataframe thead th {\n",
              "        text-align: right;\n",
              "    }\n",
              "</style>\n",
              "<table border=\"1\" class=\"dataframe\">\n",
              "  <thead>\n",
              "    <tr style=\"text-align: right;\">\n",
              "      <th></th>\n",
              "      <th>A</th>\n",
              "      <th>B</th>\n",
              "      <th>C</th>\n",
              "      <th>D</th>\n",
              "    </tr>\n",
              "  </thead>\n",
              "  <tbody>\n",
              "    <tr>\n",
              "      <th>2021-09-27</th>\n",
              "      <td>-1.518768</td>\n",
              "      <td>0.104712</td>\n",
              "      <td>0.185192</td>\n",
              "      <td>-0.928384</td>\n",
              "    </tr>\n",
              "    <tr>\n",
              "      <th>2021-09-28</th>\n",
              "      <td>-0.202560</td>\n",
              "      <td>-1.205742</td>\n",
              "      <td>-1.207697</td>\n",
              "      <td>-0.372979</td>\n",
              "    </tr>\n",
              "    <tr>\n",
              "      <th>2021-09-29</th>\n",
              "      <td>0.154829</td>\n",
              "      <td>-0.001987</td>\n",
              "      <td>0.021787</td>\n",
              "      <td>0.368293</td>\n",
              "    </tr>\n",
              "    <tr>\n",
              "      <th>2021-09-30</th>\n",
              "      <td>1.969910</td>\n",
              "      <td>-1.027230</td>\n",
              "      <td>-0.100230</td>\n",
              "      <td>0.416002</td>\n",
              "    </tr>\n",
              "    <tr>\n",
              "      <th>2021-10-01</th>\n",
              "      <td>1.658594</td>\n",
              "      <td>-0.064209</td>\n",
              "      <td>1.393001</td>\n",
              "      <td>0.581865</td>\n",
              "    </tr>\n",
              "    <tr>\n",
              "      <th>2021-10-02</th>\n",
              "      <td>-0.791727</td>\n",
              "      <td>1.700479</td>\n",
              "      <td>1.069872</td>\n",
              "      <td>-0.561316</td>\n",
              "    </tr>\n",
              "  </tbody>\n",
              "</table>\n",
              "</div>"
            ],
            "text/plain": [
              "                   A         B         C         D\n",
              "2021-09-27 -1.518768  0.104712  0.185192 -0.928384\n",
              "2021-09-28 -0.202560 -1.205742 -1.207697 -0.372979\n",
              "2021-09-29  0.154829 -0.001987  0.021787  0.368293\n",
              "2021-09-30  1.969910 -1.027230 -0.100230  0.416002\n",
              "2021-10-01  1.658594 -0.064209  1.393001  0.581865\n",
              "2021-10-02 -0.791727  1.700479  1.069872 -0.561316"
            ]
          },
          "metadata": {},
          "execution_count": 31
        }
      ]
    },
    {
      "cell_type": "markdown",
      "metadata": {
        "id": "TlF57lq27o05"
      },
      "source": [
        "- Boolean output"
      ]
    },
    {
      "cell_type": "code",
      "metadata": {
        "colab": {
          "base_uri": "https://localhost:8080/"
        },
        "id": "AsIMFCaa7VXc",
        "outputId": "3de4bb16-1906-458b-cd43-f310ad953067"
      },
      "source": [
        "df.A > 0    "
      ],
      "execution_count": 32,
      "outputs": [
        {
          "output_type": "execute_result",
          "data": {
            "text/plain": [
              "2021-09-27    False\n",
              "2021-09-28    False\n",
              "2021-09-29     True\n",
              "2021-09-30     True\n",
              "2021-10-01     True\n",
              "2021-10-02    False\n",
              "Freq: D, Name: A, dtype: bool"
            ]
          },
          "metadata": {},
          "execution_count": 32
        }
      ]
    },
    {
      "cell_type": "code",
      "metadata": {
        "colab": {
          "base_uri": "https://localhost:8080/",
          "height": 235
        },
        "id": "e77y6Db17mYs",
        "outputId": "8b27928b-41b2-4c76-9037-513fb67e7ce2"
      },
      "source": [
        "df > 0"
      ],
      "execution_count": 33,
      "outputs": [
        {
          "output_type": "execute_result",
          "data": {
            "text/html": [
              "<div>\n",
              "<style scoped>\n",
              "    .dataframe tbody tr th:only-of-type {\n",
              "        vertical-align: middle;\n",
              "    }\n",
              "\n",
              "    .dataframe tbody tr th {\n",
              "        vertical-align: top;\n",
              "    }\n",
              "\n",
              "    .dataframe thead th {\n",
              "        text-align: right;\n",
              "    }\n",
              "</style>\n",
              "<table border=\"1\" class=\"dataframe\">\n",
              "  <thead>\n",
              "    <tr style=\"text-align: right;\">\n",
              "      <th></th>\n",
              "      <th>A</th>\n",
              "      <th>B</th>\n",
              "      <th>C</th>\n",
              "      <th>D</th>\n",
              "    </tr>\n",
              "  </thead>\n",
              "  <tbody>\n",
              "    <tr>\n",
              "      <th>2021-09-27</th>\n",
              "      <td>False</td>\n",
              "      <td>True</td>\n",
              "      <td>True</td>\n",
              "      <td>False</td>\n",
              "    </tr>\n",
              "    <tr>\n",
              "      <th>2021-09-28</th>\n",
              "      <td>False</td>\n",
              "      <td>False</td>\n",
              "      <td>False</td>\n",
              "      <td>False</td>\n",
              "    </tr>\n",
              "    <tr>\n",
              "      <th>2021-09-29</th>\n",
              "      <td>True</td>\n",
              "      <td>False</td>\n",
              "      <td>True</td>\n",
              "      <td>True</td>\n",
              "    </tr>\n",
              "    <tr>\n",
              "      <th>2021-09-30</th>\n",
              "      <td>True</td>\n",
              "      <td>False</td>\n",
              "      <td>False</td>\n",
              "      <td>True</td>\n",
              "    </tr>\n",
              "    <tr>\n",
              "      <th>2021-10-01</th>\n",
              "      <td>True</td>\n",
              "      <td>False</td>\n",
              "      <td>True</td>\n",
              "      <td>True</td>\n",
              "    </tr>\n",
              "    <tr>\n",
              "      <th>2021-10-02</th>\n",
              "      <td>False</td>\n",
              "      <td>True</td>\n",
              "      <td>True</td>\n",
              "      <td>False</td>\n",
              "    </tr>\n",
              "  </tbody>\n",
              "</table>\n",
              "</div>"
            ],
            "text/plain": [
              "                A      B      C      D\n",
              "2021-09-27  False   True   True  False\n",
              "2021-09-28  False  False  False  False\n",
              "2021-09-29   True  False   True   True\n",
              "2021-09-30   True  False  False   True\n",
              "2021-10-01   True  False   True   True\n",
              "2021-10-02  False   True   True  False"
            ]
          },
          "metadata": {},
          "execution_count": 33
        }
      ]
    },
    {
      "cell_type": "code",
      "metadata": {
        "id": "U5If1VEYx5sy",
        "colab": {
          "base_uri": "https://localhost:8080/",
          "height": 142
        },
        "outputId": "800e4eda-aba1-493d-8fce-618ccadd060d"
      },
      "source": [
        "df[df.A > 0]"
      ],
      "execution_count": 34,
      "outputs": [
        {
          "output_type": "execute_result",
          "data": {
            "text/html": [
              "<div>\n",
              "<style scoped>\n",
              "    .dataframe tbody tr th:only-of-type {\n",
              "        vertical-align: middle;\n",
              "    }\n",
              "\n",
              "    .dataframe tbody tr th {\n",
              "        vertical-align: top;\n",
              "    }\n",
              "\n",
              "    .dataframe thead th {\n",
              "        text-align: right;\n",
              "    }\n",
              "</style>\n",
              "<table border=\"1\" class=\"dataframe\">\n",
              "  <thead>\n",
              "    <tr style=\"text-align: right;\">\n",
              "      <th></th>\n",
              "      <th>A</th>\n",
              "      <th>B</th>\n",
              "      <th>C</th>\n",
              "      <th>D</th>\n",
              "    </tr>\n",
              "  </thead>\n",
              "  <tbody>\n",
              "    <tr>\n",
              "      <th>2021-09-29</th>\n",
              "      <td>0.154829</td>\n",
              "      <td>-0.001987</td>\n",
              "      <td>0.021787</td>\n",
              "      <td>0.368293</td>\n",
              "    </tr>\n",
              "    <tr>\n",
              "      <th>2021-09-30</th>\n",
              "      <td>1.969910</td>\n",
              "      <td>-1.027230</td>\n",
              "      <td>-0.100230</td>\n",
              "      <td>0.416002</td>\n",
              "    </tr>\n",
              "    <tr>\n",
              "      <th>2021-10-01</th>\n",
              "      <td>1.658594</td>\n",
              "      <td>-0.064209</td>\n",
              "      <td>1.393001</td>\n",
              "      <td>0.581865</td>\n",
              "    </tr>\n",
              "  </tbody>\n",
              "</table>\n",
              "</div>"
            ],
            "text/plain": [
              "                   A         B         C         D\n",
              "2021-09-29  0.154829 -0.001987  0.021787  0.368293\n",
              "2021-09-30  1.969910 -1.027230 -0.100230  0.416002\n",
              "2021-10-01  1.658594 -0.064209  1.393001  0.581865"
            ]
          },
          "metadata": {},
          "execution_count": 34
        }
      ]
    },
    {
      "cell_type": "code",
      "metadata": {
        "id": "8WkB7Q5rx5s1",
        "colab": {
          "base_uri": "https://localhost:8080/",
          "height": 235
        },
        "outputId": "d3543d82-e330-4ff0-8c6c-dc22d34b7bab"
      },
      "source": [
        "df[df > 0] # 0보다 작으면 NaN (missing value)"
      ],
      "execution_count": 35,
      "outputs": [
        {
          "output_type": "execute_result",
          "data": {
            "text/html": [
              "<div>\n",
              "<style scoped>\n",
              "    .dataframe tbody tr th:only-of-type {\n",
              "        vertical-align: middle;\n",
              "    }\n",
              "\n",
              "    .dataframe tbody tr th {\n",
              "        vertical-align: top;\n",
              "    }\n",
              "\n",
              "    .dataframe thead th {\n",
              "        text-align: right;\n",
              "    }\n",
              "</style>\n",
              "<table border=\"1\" class=\"dataframe\">\n",
              "  <thead>\n",
              "    <tr style=\"text-align: right;\">\n",
              "      <th></th>\n",
              "      <th>A</th>\n",
              "      <th>B</th>\n",
              "      <th>C</th>\n",
              "      <th>D</th>\n",
              "    </tr>\n",
              "  </thead>\n",
              "  <tbody>\n",
              "    <tr>\n",
              "      <th>2021-09-27</th>\n",
              "      <td>NaN</td>\n",
              "      <td>0.104712</td>\n",
              "      <td>0.185192</td>\n",
              "      <td>NaN</td>\n",
              "    </tr>\n",
              "    <tr>\n",
              "      <th>2021-09-28</th>\n",
              "      <td>NaN</td>\n",
              "      <td>NaN</td>\n",
              "      <td>NaN</td>\n",
              "      <td>NaN</td>\n",
              "    </tr>\n",
              "    <tr>\n",
              "      <th>2021-09-29</th>\n",
              "      <td>0.154829</td>\n",
              "      <td>NaN</td>\n",
              "      <td>0.021787</td>\n",
              "      <td>0.368293</td>\n",
              "    </tr>\n",
              "    <tr>\n",
              "      <th>2021-09-30</th>\n",
              "      <td>1.969910</td>\n",
              "      <td>NaN</td>\n",
              "      <td>NaN</td>\n",
              "      <td>0.416002</td>\n",
              "    </tr>\n",
              "    <tr>\n",
              "      <th>2021-10-01</th>\n",
              "      <td>1.658594</td>\n",
              "      <td>NaN</td>\n",
              "      <td>1.393001</td>\n",
              "      <td>0.581865</td>\n",
              "    </tr>\n",
              "    <tr>\n",
              "      <th>2021-10-02</th>\n",
              "      <td>NaN</td>\n",
              "      <td>1.700479</td>\n",
              "      <td>1.069872</td>\n",
              "      <td>NaN</td>\n",
              "    </tr>\n",
              "  </tbody>\n",
              "</table>\n",
              "</div>"
            ],
            "text/plain": [
              "                   A         B         C         D\n",
              "2021-09-27       NaN  0.104712  0.185192       NaN\n",
              "2021-09-28       NaN       NaN       NaN       NaN\n",
              "2021-09-29  0.154829       NaN  0.021787  0.368293\n",
              "2021-09-30  1.969910       NaN       NaN  0.416002\n",
              "2021-10-01  1.658594       NaN  1.393001  0.581865\n",
              "2021-10-02       NaN  1.700479  1.069872       NaN"
            ]
          },
          "metadata": {},
          "execution_count": 35
        }
      ]
    }
  ]
}